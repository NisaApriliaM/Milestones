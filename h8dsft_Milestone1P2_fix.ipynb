{
 "cells": [
  {
   "cell_type": "markdown",
   "id": "ad97608f",
   "metadata": {},
   "source": [
    "***Nisa Aprilia M.***\n",
    "\n",
    "***FTDS #004***"
   ]
  },
  {
   "cell_type": "markdown",
   "id": "7f8a7b8d",
   "metadata": {},
   "source": [
    "**Phase 2, Milestone 1: Artificial Neural Network**"
   ]
  },
  {
   "cell_type": "markdown",
   "id": "4c511801",
   "metadata": {},
   "source": [
    "# I. INTRODUCTION "
   ]
  },
  {
   "cell_type": "markdown",
   "id": "f1cfa4cf",
   "metadata": {},
   "source": [
    "**1) PROBLEM**"
   ]
  },
  {
   "cell_type": "markdown",
   "id": "212088c0",
   "metadata": {},
   "source": [
    "***A telecommunication company (Telco) wants to analyze all relevant customer data and develop focused customer retention programs to prevent customers from retaining.***"
   ]
  },
  {
   "cell_type": "markdown",
   "id": "c9aaf490",
   "metadata": {},
   "source": [
    "**2) DATASET**"
   ]
  },
  {
   "cell_type": "markdown",
   "id": "a2f6f8ac",
   "metadata": {},
   "source": [
    "**Title:** Telco Customer Churn\n",
    "\n",
    "**Source:** https://www.kaggle.com/blastchar/telco-customer-churn\n",
    "\n",
    "**Classification Characteristics:** Binary Classification \n",
    "\n",
    "**Dataset Brief Information:** The data set includes information about:\n",
    "\n",
    "- Customers who left within the last month – the column is called Churn\n",
    "\n",
    "- Services that each customer has signed up for – phone, multiple lines, internet, online security, online backup, device protection, tech support, and streaming TV and movies\n",
    "\n",
    "- Customer account information – how long they’ve been a customer, contract, payment method, paperless billing, monthly charges, and total charges\n",
    "\n",
    "- Demographic info about customers – gender, age range, and if they have partners and dependents"
   ]
  },
  {
   "cell_type": "markdown",
   "id": "e25f5552",
   "metadata": {},
   "source": [
    "**3) OBJECTIVES**"
   ]
  },
  {
   "cell_type": "markdown",
   "id": "adb4ed06",
   "metadata": {},
   "source": [
    "**a. Analyzing customer's signed products, account and demographic information effects on customer's churn** \n",
    "\n",
    "**b. Build an ANN classifier model to predict customer's churn**"
   ]
  },
  {
   "cell_type": "markdown",
   "id": "d923b9fc",
   "metadata": {},
   "source": [
    "# II. IMPORT LIBRARY "
   ]
  },
  {
   "cell_type": "code",
   "execution_count": 143,
   "id": "09127764",
   "metadata": {},
   "outputs": [],
   "source": [
    "import tensorflow as tf\n",
    "from tensorflow import keras\n",
    "from keras_tuner import RandomSearch\n",
    "import sklearn\n",
    "import numpy as np\n",
    "import pandas as pd \n",
    "import seaborn as sns\n",
    "from sklearn.preprocessing import LabelEncoder, StandardScaler, OneHotEncoder\n",
    "from sklearn.model_selection import train_test_split\n",
    "from sklearn.compose import ColumnTransformer\n",
    "from keras.callbacks import EarlyStopping\n",
    "from sklearn.metrics import confusion_matrix, classification_report\n",
    "from sklearn import metrics\n",
    "\n",
    "%matplotlib inline\n",
    "import matplotlib as mpl\n",
    "import matplotlib.pyplot as plt\n",
    "\n",
    "import warnings\n",
    "warnings.filterwarnings('ignore')"
   ]
  },
  {
   "cell_type": "markdown",
   "id": "4cbe77ed",
   "metadata": {},
   "source": [
    "# III. LOAD DATASET & QUICK EXPLORATION"
   ]
  },
  {
   "cell_type": "markdown",
   "id": "08fb4be3",
   "metadata": {},
   "source": [
    "**Import dataset from csv file:**"
   ]
  },
  {
   "cell_type": "code",
   "execution_count": 144,
   "id": "5150ff27",
   "metadata": {},
   "outputs": [
    {
     "data": {
      "text/html": [
       "<div>\n",
       "<style scoped>\n",
       "    .dataframe tbody tr th:only-of-type {\n",
       "        vertical-align: middle;\n",
       "    }\n",
       "\n",
       "    .dataframe tbody tr th {\n",
       "        vertical-align: top;\n",
       "    }\n",
       "\n",
       "    .dataframe thead th {\n",
       "        text-align: right;\n",
       "    }\n",
       "</style>\n",
       "<table border=\"1\" class=\"dataframe\">\n",
       "  <thead>\n",
       "    <tr style=\"text-align: right;\">\n",
       "      <th></th>\n",
       "      <th>customerID</th>\n",
       "      <th>gender</th>\n",
       "      <th>SeniorCitizen</th>\n",
       "      <th>Partner</th>\n",
       "      <th>Dependents</th>\n",
       "      <th>tenure</th>\n",
       "      <th>PhoneService</th>\n",
       "      <th>MultipleLines</th>\n",
       "      <th>InternetService</th>\n",
       "      <th>OnlineSecurity</th>\n",
       "      <th>...</th>\n",
       "      <th>DeviceProtection</th>\n",
       "      <th>TechSupport</th>\n",
       "      <th>StreamingTV</th>\n",
       "      <th>StreamingMovies</th>\n",
       "      <th>Contract</th>\n",
       "      <th>PaperlessBilling</th>\n",
       "      <th>PaymentMethod</th>\n",
       "      <th>MonthlyCharges</th>\n",
       "      <th>TotalCharges</th>\n",
       "      <th>Churn</th>\n",
       "    </tr>\n",
       "  </thead>\n",
       "  <tbody>\n",
       "    <tr>\n",
       "      <th>0</th>\n",
       "      <td>7590-VHVEG</td>\n",
       "      <td>Female</td>\n",
       "      <td>0</td>\n",
       "      <td>Yes</td>\n",
       "      <td>No</td>\n",
       "      <td>1</td>\n",
       "      <td>No</td>\n",
       "      <td>No phone service</td>\n",
       "      <td>DSL</td>\n",
       "      <td>No</td>\n",
       "      <td>...</td>\n",
       "      <td>No</td>\n",
       "      <td>No</td>\n",
       "      <td>No</td>\n",
       "      <td>No</td>\n",
       "      <td>Month-to-month</td>\n",
       "      <td>Yes</td>\n",
       "      <td>Electronic check</td>\n",
       "      <td>29.85</td>\n",
       "      <td>29.85</td>\n",
       "      <td>No</td>\n",
       "    </tr>\n",
       "    <tr>\n",
       "      <th>1</th>\n",
       "      <td>5575-GNVDE</td>\n",
       "      <td>Male</td>\n",
       "      <td>0</td>\n",
       "      <td>No</td>\n",
       "      <td>No</td>\n",
       "      <td>34</td>\n",
       "      <td>Yes</td>\n",
       "      <td>No</td>\n",
       "      <td>DSL</td>\n",
       "      <td>Yes</td>\n",
       "      <td>...</td>\n",
       "      <td>Yes</td>\n",
       "      <td>No</td>\n",
       "      <td>No</td>\n",
       "      <td>No</td>\n",
       "      <td>One year</td>\n",
       "      <td>No</td>\n",
       "      <td>Mailed check</td>\n",
       "      <td>56.95</td>\n",
       "      <td>1889.5</td>\n",
       "      <td>No</td>\n",
       "    </tr>\n",
       "    <tr>\n",
       "      <th>2</th>\n",
       "      <td>3668-QPYBK</td>\n",
       "      <td>Male</td>\n",
       "      <td>0</td>\n",
       "      <td>No</td>\n",
       "      <td>No</td>\n",
       "      <td>2</td>\n",
       "      <td>Yes</td>\n",
       "      <td>No</td>\n",
       "      <td>DSL</td>\n",
       "      <td>Yes</td>\n",
       "      <td>...</td>\n",
       "      <td>No</td>\n",
       "      <td>No</td>\n",
       "      <td>No</td>\n",
       "      <td>No</td>\n",
       "      <td>Month-to-month</td>\n",
       "      <td>Yes</td>\n",
       "      <td>Mailed check</td>\n",
       "      <td>53.85</td>\n",
       "      <td>108.15</td>\n",
       "      <td>Yes</td>\n",
       "    </tr>\n",
       "    <tr>\n",
       "      <th>3</th>\n",
       "      <td>7795-CFOCW</td>\n",
       "      <td>Male</td>\n",
       "      <td>0</td>\n",
       "      <td>No</td>\n",
       "      <td>No</td>\n",
       "      <td>45</td>\n",
       "      <td>No</td>\n",
       "      <td>No phone service</td>\n",
       "      <td>DSL</td>\n",
       "      <td>Yes</td>\n",
       "      <td>...</td>\n",
       "      <td>Yes</td>\n",
       "      <td>Yes</td>\n",
       "      <td>No</td>\n",
       "      <td>No</td>\n",
       "      <td>One year</td>\n",
       "      <td>No</td>\n",
       "      <td>Bank transfer (automatic)</td>\n",
       "      <td>42.30</td>\n",
       "      <td>1840.75</td>\n",
       "      <td>No</td>\n",
       "    </tr>\n",
       "    <tr>\n",
       "      <th>4</th>\n",
       "      <td>9237-HQITU</td>\n",
       "      <td>Female</td>\n",
       "      <td>0</td>\n",
       "      <td>No</td>\n",
       "      <td>No</td>\n",
       "      <td>2</td>\n",
       "      <td>Yes</td>\n",
       "      <td>No</td>\n",
       "      <td>Fiber optic</td>\n",
       "      <td>No</td>\n",
       "      <td>...</td>\n",
       "      <td>No</td>\n",
       "      <td>No</td>\n",
       "      <td>No</td>\n",
       "      <td>No</td>\n",
       "      <td>Month-to-month</td>\n",
       "      <td>Yes</td>\n",
       "      <td>Electronic check</td>\n",
       "      <td>70.70</td>\n",
       "      <td>151.65</td>\n",
       "      <td>Yes</td>\n",
       "    </tr>\n",
       "  </tbody>\n",
       "</table>\n",
       "<p>5 rows × 21 columns</p>\n",
       "</div>"
      ],
      "text/plain": [
       "   customerID  gender  SeniorCitizen Partner Dependents  tenure PhoneService  \\\n",
       "0  7590-VHVEG  Female              0     Yes         No       1           No   \n",
       "1  5575-GNVDE    Male              0      No         No      34          Yes   \n",
       "2  3668-QPYBK    Male              0      No         No       2          Yes   \n",
       "3  7795-CFOCW    Male              0      No         No      45           No   \n",
       "4  9237-HQITU  Female              0      No         No       2          Yes   \n",
       "\n",
       "      MultipleLines InternetService OnlineSecurity  ... DeviceProtection  \\\n",
       "0  No phone service             DSL             No  ...               No   \n",
       "1                No             DSL            Yes  ...              Yes   \n",
       "2                No             DSL            Yes  ...               No   \n",
       "3  No phone service             DSL            Yes  ...              Yes   \n",
       "4                No     Fiber optic             No  ...               No   \n",
       "\n",
       "  TechSupport StreamingTV StreamingMovies        Contract PaperlessBilling  \\\n",
       "0          No          No              No  Month-to-month              Yes   \n",
       "1          No          No              No        One year               No   \n",
       "2          No          No              No  Month-to-month              Yes   \n",
       "3         Yes          No              No        One year               No   \n",
       "4          No          No              No  Month-to-month              Yes   \n",
       "\n",
       "               PaymentMethod MonthlyCharges  TotalCharges Churn  \n",
       "0           Electronic check          29.85         29.85    No  \n",
       "1               Mailed check          56.95        1889.5    No  \n",
       "2               Mailed check          53.85        108.15   Yes  \n",
       "3  Bank transfer (automatic)          42.30       1840.75    No  \n",
       "4           Electronic check          70.70        151.65   Yes  \n",
       "\n",
       "[5 rows x 21 columns]"
      ]
     },
     "execution_count": 144,
     "metadata": {},
     "output_type": "execute_result"
    }
   ],
   "source": [
    "df = pd.read_csv(r\"C:\\Users\\nisam\\Downloads\\telco_data.csv\")\n",
    "df.head()"
   ]
  },
  {
   "cell_type": "markdown",
   "id": "aec41799",
   "metadata": {},
   "source": [
    "**Check dataset shape:**"
   ]
  },
  {
   "cell_type": "code",
   "execution_count": 145,
   "id": "c2d362ab",
   "metadata": {},
   "outputs": [
    {
     "data": {
      "text/plain": [
       "(7043, 21)"
      ]
     },
     "execution_count": 145,
     "metadata": {},
     "output_type": "execute_result"
    }
   ],
   "source": [
    "df.shape"
   ]
  },
  {
   "cell_type": "markdown",
   "id": "709e6340",
   "metadata": {},
   "source": [
    "**Check dataset information**"
   ]
  },
  {
   "cell_type": "code",
   "execution_count": 146,
   "id": "feec21ad",
   "metadata": {},
   "outputs": [
    {
     "name": "stdout",
     "output_type": "stream",
     "text": [
      "<class 'pandas.core.frame.DataFrame'>\n",
      "RangeIndex: 7043 entries, 0 to 7042\n",
      "Data columns (total 21 columns):\n",
      " #   Column            Non-Null Count  Dtype  \n",
      "---  ------            --------------  -----  \n",
      " 0   customerID        7043 non-null   object \n",
      " 1   gender            7043 non-null   object \n",
      " 2   SeniorCitizen     7043 non-null   int64  \n",
      " 3   Partner           7043 non-null   object \n",
      " 4   Dependents        7043 non-null   object \n",
      " 5   tenure            7043 non-null   int64  \n",
      " 6   PhoneService      7043 non-null   object \n",
      " 7   MultipleLines     7043 non-null   object \n",
      " 8   InternetService   7043 non-null   object \n",
      " 9   OnlineSecurity    7043 non-null   object \n",
      " 10  OnlineBackup      7043 non-null   object \n",
      " 11  DeviceProtection  7043 non-null   object \n",
      " 12  TechSupport       7043 non-null   object \n",
      " 13  StreamingTV       7043 non-null   object \n",
      " 14  StreamingMovies   7043 non-null   object \n",
      " 15  Contract          7043 non-null   object \n",
      " 16  PaperlessBilling  7043 non-null   object \n",
      " 17  PaymentMethod     7043 non-null   object \n",
      " 18  MonthlyCharges    7043 non-null   float64\n",
      " 19  TotalCharges      7043 non-null   object \n",
      " 20  Churn             7043 non-null   object \n",
      "dtypes: float64(1), int64(2), object(18)\n",
      "memory usage: 1.1+ MB\n"
     ]
    }
   ],
   "source": [
    "df.info()"
   ]
  },
  {
   "cell_type": "markdown",
   "id": "9db91565",
   "metadata": {},
   "source": [
    "**Get statistical overview of numeric features in dataset:**"
   ]
  },
  {
   "cell_type": "code",
   "execution_count": 147,
   "id": "ff6864d0",
   "metadata": {},
   "outputs": [
    {
     "data": {
      "text/html": [
       "<div>\n",
       "<style scoped>\n",
       "    .dataframe tbody tr th:only-of-type {\n",
       "        vertical-align: middle;\n",
       "    }\n",
       "\n",
       "    .dataframe tbody tr th {\n",
       "        vertical-align: top;\n",
       "    }\n",
       "\n",
       "    .dataframe thead th {\n",
       "        text-align: right;\n",
       "    }\n",
       "</style>\n",
       "<table border=\"1\" class=\"dataframe\">\n",
       "  <thead>\n",
       "    <tr style=\"text-align: right;\">\n",
       "      <th></th>\n",
       "      <th>SeniorCitizen</th>\n",
       "      <th>tenure</th>\n",
       "      <th>MonthlyCharges</th>\n",
       "    </tr>\n",
       "  </thead>\n",
       "  <tbody>\n",
       "    <tr>\n",
       "      <th>count</th>\n",
       "      <td>7043.000000</td>\n",
       "      <td>7043.000000</td>\n",
       "      <td>7043.000000</td>\n",
       "    </tr>\n",
       "    <tr>\n",
       "      <th>mean</th>\n",
       "      <td>0.162147</td>\n",
       "      <td>32.371149</td>\n",
       "      <td>64.761692</td>\n",
       "    </tr>\n",
       "    <tr>\n",
       "      <th>std</th>\n",
       "      <td>0.368612</td>\n",
       "      <td>24.559481</td>\n",
       "      <td>30.090047</td>\n",
       "    </tr>\n",
       "    <tr>\n",
       "      <th>min</th>\n",
       "      <td>0.000000</td>\n",
       "      <td>0.000000</td>\n",
       "      <td>18.250000</td>\n",
       "    </tr>\n",
       "    <tr>\n",
       "      <th>25%</th>\n",
       "      <td>0.000000</td>\n",
       "      <td>9.000000</td>\n",
       "      <td>35.500000</td>\n",
       "    </tr>\n",
       "    <tr>\n",
       "      <th>50%</th>\n",
       "      <td>0.000000</td>\n",
       "      <td>29.000000</td>\n",
       "      <td>70.350000</td>\n",
       "    </tr>\n",
       "    <tr>\n",
       "      <th>75%</th>\n",
       "      <td>0.000000</td>\n",
       "      <td>55.000000</td>\n",
       "      <td>89.850000</td>\n",
       "    </tr>\n",
       "    <tr>\n",
       "      <th>max</th>\n",
       "      <td>1.000000</td>\n",
       "      <td>72.000000</td>\n",
       "      <td>118.750000</td>\n",
       "    </tr>\n",
       "  </tbody>\n",
       "</table>\n",
       "</div>"
      ],
      "text/plain": [
       "       SeniorCitizen       tenure  MonthlyCharges\n",
       "count    7043.000000  7043.000000     7043.000000\n",
       "mean        0.162147    32.371149       64.761692\n",
       "std         0.368612    24.559481       30.090047\n",
       "min         0.000000     0.000000       18.250000\n",
       "25%         0.000000     9.000000       35.500000\n",
       "50%         0.000000    29.000000       70.350000\n",
       "75%         0.000000    55.000000       89.850000\n",
       "max         1.000000    72.000000      118.750000"
      ]
     },
     "execution_count": 147,
     "metadata": {},
     "output_type": "execute_result"
    }
   ],
   "source": [
    "df.describe()"
   ]
  },
  {
   "cell_type": "markdown",
   "id": "3c68eeb0",
   "metadata": {},
   "source": [
    "**Check distribution of data classification:**"
   ]
  },
  {
   "cell_type": "code",
   "execution_count": 148,
   "id": "e2d867cb",
   "metadata": {},
   "outputs": [
    {
     "data": {
      "image/png": "[encoded data removed]",
      "text/plain": [
       "<Figure size 432x288 with 1 Axes>"
      ]
     },
     "metadata": {
      "needs_background": "light"
     },
     "output_type": "display_data"
    }
   ],
   "source": [
    "ax = sns.countplot(x='Churn', data=df)\n",
    "for p in ax.patches:\n",
    "    ax.annotate('{:.2f}%'.format((p.get_height() * 100) / len(df)), (p.get_x() + 0.24, p.get_height() + 2))\n",
    "plt.show()"
   ]
  },
  {
   "cell_type": "markdown",
   "id": "2b2d069f",
   "metadata": {},
   "source": [
    "***We can conclude that class distribution is imbalance.***"
   ]
  },
  {
   "cell_type": "markdown",
   "id": "96be6f02",
   "metadata": {},
   "source": [
    "**Remove column: Customer ID because that is not useful for our deep learning**"
   ]
  },
  {
   "cell_type": "code",
   "execution_count": 149,
   "id": "f71f7b9b",
   "metadata": {},
   "outputs": [
    {
     "data": {
      "text/html": [
       "<div>\n",
       "<style scoped>\n",
       "    .dataframe tbody tr th:only-of-type {\n",
       "        vertical-align: middle;\n",
       "    }\n",
       "\n",
       "    .dataframe tbody tr th {\n",
       "        vertical-align: top;\n",
       "    }\n",
       "\n",
       "    .dataframe thead th {\n",
       "        text-align: right;\n",
       "    }\n",
       "</style>\n",
       "<table border=\"1\" class=\"dataframe\">\n",
       "  <thead>\n",
       "    <tr style=\"text-align: right;\">\n",
       "      <th></th>\n",
       "      <th>gender</th>\n",
       "      <th>SeniorCitizen</th>\n",
       "      <th>Partner</th>\n",
       "      <th>Dependents</th>\n",
       "      <th>tenure</th>\n",
       "      <th>PhoneService</th>\n",
       "      <th>MultipleLines</th>\n",
       "      <th>InternetService</th>\n",
       "      <th>OnlineSecurity</th>\n",
       "      <th>OnlineBackup</th>\n",
       "      <th>DeviceProtection</th>\n",
       "      <th>TechSupport</th>\n",
       "      <th>StreamingTV</th>\n",
       "      <th>StreamingMovies</th>\n",
       "      <th>Contract</th>\n",
       "      <th>PaperlessBilling</th>\n",
       "      <th>PaymentMethod</th>\n",
       "      <th>MonthlyCharges</th>\n",
       "      <th>TotalCharges</th>\n",
       "      <th>Churn</th>\n",
       "    </tr>\n",
       "  </thead>\n",
       "  <tbody>\n",
       "    <tr>\n",
       "      <th>0</th>\n",
       "      <td>Female</td>\n",
       "      <td>0</td>\n",
       "      <td>Yes</td>\n",
       "      <td>No</td>\n",
       "      <td>1</td>\n",
       "      <td>No</td>\n",
       "      <td>No phone service</td>\n",
       "      <td>DSL</td>\n",
       "      <td>No</td>\n",
       "      <td>Yes</td>\n",
       "      <td>No</td>\n",
       "      <td>No</td>\n",
       "      <td>No</td>\n",
       "      <td>No</td>\n",
       "      <td>Month-to-month</td>\n",
       "      <td>Yes</td>\n",
       "      <td>Electronic check</td>\n",
       "      <td>29.85</td>\n",
       "      <td>29.85</td>\n",
       "      <td>No</td>\n",
       "    </tr>\n",
       "    <tr>\n",
       "      <th>1</th>\n",
       "      <td>Male</td>\n",
       "      <td>0</td>\n",
       "      <td>No</td>\n",
       "      <td>No</td>\n",
       "      <td>34</td>\n",
       "      <td>Yes</td>\n",
       "      <td>No</td>\n",
       "      <td>DSL</td>\n",
       "      <td>Yes</td>\n",
       "      <td>No</td>\n",
       "      <td>Yes</td>\n",
       "      <td>No</td>\n",
       "      <td>No</td>\n",
       "      <td>No</td>\n",
       "      <td>One year</td>\n",
       "      <td>No</td>\n",
       "      <td>Mailed check</td>\n",
       "      <td>56.95</td>\n",
       "      <td>1889.5</td>\n",
       "      <td>No</td>\n",
       "    </tr>\n",
       "    <tr>\n",
       "      <th>2</th>\n",
       "      <td>Male</td>\n",
       "      <td>0</td>\n",
       "      <td>No</td>\n",
       "      <td>No</td>\n",
       "      <td>2</td>\n",
       "      <td>Yes</td>\n",
       "      <td>No</td>\n",
       "      <td>DSL</td>\n",
       "      <td>Yes</td>\n",
       "      <td>Yes</td>\n",
       "      <td>No</td>\n",
       "      <td>No</td>\n",
       "      <td>No</td>\n",
       "      <td>No</td>\n",
       "      <td>Month-to-month</td>\n",
       "      <td>Yes</td>\n",
       "      <td>Mailed check</td>\n",
       "      <td>53.85</td>\n",
       "      <td>108.15</td>\n",
       "      <td>Yes</td>\n",
       "    </tr>\n",
       "    <tr>\n",
       "      <th>3</th>\n",
       "      <td>Male</td>\n",
       "      <td>0</td>\n",
       "      <td>No</td>\n",
       "      <td>No</td>\n",
       "      <td>45</td>\n",
       "      <td>No</td>\n",
       "      <td>No phone service</td>\n",
       "      <td>DSL</td>\n",
       "      <td>Yes</td>\n",
       "      <td>No</td>\n",
       "      <td>Yes</td>\n",
       "      <td>Yes</td>\n",
       "      <td>No</td>\n",
       "      <td>No</td>\n",
       "      <td>One year</td>\n",
       "      <td>No</td>\n",
       "      <td>Bank transfer (automatic)</td>\n",
       "      <td>42.30</td>\n",
       "      <td>1840.75</td>\n",
       "      <td>No</td>\n",
       "    </tr>\n",
       "    <tr>\n",
       "      <th>4</th>\n",
       "      <td>Female</td>\n",
       "      <td>0</td>\n",
       "      <td>No</td>\n",
       "      <td>No</td>\n",
       "      <td>2</td>\n",
       "      <td>Yes</td>\n",
       "      <td>No</td>\n",
       "      <td>Fiber optic</td>\n",
       "      <td>No</td>\n",
       "      <td>No</td>\n",
       "      <td>No</td>\n",
       "      <td>No</td>\n",
       "      <td>No</td>\n",
       "      <td>No</td>\n",
       "      <td>Month-to-month</td>\n",
       "      <td>Yes</td>\n",
       "      <td>Electronic check</td>\n",
       "      <td>70.70</td>\n",
       "      <td>151.65</td>\n",
       "      <td>Yes</td>\n",
       "    </tr>\n",
       "  </tbody>\n",
       "</table>\n",
       "</div>"
      ],
      "text/plain": [
       "   gender  SeniorCitizen Partner Dependents  tenure PhoneService  \\\n",
       "0  Female              0     Yes         No       1           No   \n",
       "1    Male              0      No         No      34          Yes   \n",
       "2    Male              0      No         No       2          Yes   \n",
       "3    Male              0      No         No      45           No   \n",
       "4  Female              0      No         No       2          Yes   \n",
       "\n",
       "      MultipleLines InternetService OnlineSecurity OnlineBackup  \\\n",
       "0  No phone service             DSL             No          Yes   \n",
       "1                No             DSL            Yes           No   \n",
       "2                No             DSL            Yes          Yes   \n",
       "3  No phone service             DSL            Yes           No   \n",
       "4                No     Fiber optic             No           No   \n",
       "\n",
       "  DeviceProtection TechSupport StreamingTV StreamingMovies        Contract  \\\n",
       "0               No          No          No              No  Month-to-month   \n",
       "1              Yes          No          No              No        One year   \n",
       "2               No          No          No              No  Month-to-month   \n",
       "3              Yes         Yes          No              No        One year   \n",
       "4               No          No          No              No  Month-to-month   \n",
       "\n",
       "  PaperlessBilling              PaymentMethod  MonthlyCharges TotalCharges  \\\n",
       "0              Yes           Electronic check           29.85        29.85   \n",
       "1               No               Mailed check           56.95       1889.5   \n",
       "2              Yes               Mailed check           53.85       108.15   \n",
       "3               No  Bank transfer (automatic)           42.30      1840.75   \n",
       "4              Yes           Electronic check           70.70       151.65   \n",
       "\n",
       "  Churn  \n",
       "0    No  \n",
       "1    No  \n",
       "2   Yes  \n",
       "3    No  \n",
       "4   Yes  "
      ]
     },
     "execution_count": 149,
     "metadata": {},
     "output_type": "execute_result"
    }
   ],
   "source": [
    "df.drop('customerID', axis=1, inplace=True)\n",
    "df.head()"
   ]
  },
  {
   "cell_type": "markdown",
   "id": "3e818c44",
   "metadata": {},
   "source": [
    "# IV. DATA CLEANING "
   ]
  },
  {
   "cell_type": "code",
   "execution_count": 150,
   "id": "dd61785d",
   "metadata": {},
   "outputs": [
    {
     "data": {
      "text/plain": [
       "gender              0\n",
       "SeniorCitizen       0\n",
       "Partner             0\n",
       "Dependents          0\n",
       "tenure              0\n",
       "PhoneService        0\n",
       "MultipleLines       0\n",
       "InternetService     0\n",
       "OnlineSecurity      0\n",
       "OnlineBackup        0\n",
       "DeviceProtection    0\n",
       "TechSupport         0\n",
       "StreamingTV         0\n",
       "StreamingMovies     0\n",
       "Contract            0\n",
       "PaperlessBilling    0\n",
       "PaymentMethod       0\n",
       "MonthlyCharges      0\n",
       "TotalCharges        0\n",
       "Churn               0\n",
       "dtype: int64"
      ]
     },
     "execution_count": 150,
     "metadata": {},
     "output_type": "execute_result"
    }
   ],
   "source": [
    "df.isnull().sum()"
   ]
  },
  {
   "cell_type": "markdown",
   "id": "ad1454f3",
   "metadata": {},
   "source": [
    "***There is no null values in the dataset.***"
   ]
  },
  {
   "cell_type": "markdown",
   "id": "99632323",
   "metadata": {},
   "source": [
    "**Check Outliers in Numeric Features:**"
   ]
  },
  {
   "cell_type": "code",
   "execution_count": 151,
   "id": "b730ce6d",
   "metadata": {},
   "outputs": [],
   "source": [
    "# convert column 'Total Charges' to numerical  \n",
    "df['TotalCharges'] = pd.to_numeric(df['TotalCharges'],errors = 'coerce')"
   ]
  },
  {
   "cell_type": "code",
   "execution_count": 152,
   "id": "a4e02a96",
   "metadata": {},
   "outputs": [
    {
     "data": {
      "image/png": "[encoded data removed]",
      "text/plain": [
       "<Figure size 1152x504 with 3 Axes>"
      ]
     },
     "metadata": {
      "needs_background": "light"
     },
     "output_type": "display_data"
    }
   ],
   "source": [
    "fig, ax = plt.subplots(figsize=(16,7))\n",
    "\n",
    "plt.subplot(2,2,1)\n",
    "df.boxplot('tenure',vert=False)\n",
    "plt.subplot(2,2,2)\n",
    "df.boxplot('MonthlyCharges',vert=False)\n",
    "plt.subplot(2,2,3)\n",
    "df.boxplot('TotalCharges',vert=False)\n",
    "plt.show()"
   ]
  },
  {
   "cell_type": "markdown",
   "id": "ee043b27",
   "metadata": {},
   "source": [
    "***There seems to be no outliers detected on numerical features.***"
   ]
  },
  {
   "cell_type": "markdown",
   "id": "5867a16d",
   "metadata": {},
   "source": [
    "# V. EXPLORATORY DATA ANALYSIS"
   ]
  },
  {
   "cell_type": "markdown",
   "id": "0dcbbe5c",
   "metadata": {},
   "source": [
    "In this EDA we will discover the following analysis:\n",
    "\n",
    "1) Customer's demographic information correlation to customer's churn \n",
    "\n",
    "2) Customer's signed telco products information correlation to customer's churn \n",
    "\n",
    "3) Customer's account information correlation to customer's churn "
   ]
  },
  {
   "cell_type": "code",
   "execution_count": 153,
   "id": "e8791e6a",
   "metadata": {},
   "outputs": [],
   "source": [
    "# get a new dataset with each class\n",
    "df_no = df.loc[df['Churn'] == 'No']\n",
    "df_yes = df.loc[df['Churn'] == 'Yes']"
   ]
  },
  {
   "cell_type": "markdown",
   "id": "dd58a778",
   "metadata": {},
   "source": [
    "**Customer's Demographic**"
   ]
  },
  {
   "cell_type": "code",
   "execution_count": 154,
   "id": "5f9da3f1",
   "metadata": {},
   "outputs": [
    {
     "data": {
      "image/png": "[encoded data removed]",
      "text/plain": [
       "<Figure size 1440x1080 with 8 Axes>"
      ]
     },
     "metadata": {},
     "output_type": "display_data"
    }
   ],
   "source": [
    "fig, ax = plt.subplots(4, 2, figsize=(20,15))\n",
    "\n",
    "data1, label1 = df_no.groupby('gender', sort=False)['Churn'].count(), df_no['gender'].unique()\n",
    "data2, label2 = df_no.groupby('SeniorCitizen', sort=False)['Churn'].count(), df_no['SeniorCitizen'].unique()\n",
    "data3, label3 = df_no.groupby('Partner', sort=False)['Churn'].count(), df_no['Partner'].unique()\n",
    "data4, label4 = df_no.groupby('Dependents', sort=False)['Churn'].count(), df_no['Dependents'].unique()\n",
    "data5, label5 = df_yes.groupby('gender', sort=False)['Churn'].count(), df_yes['gender'].unique()\n",
    "data6, label6 = df_yes.groupby('SeniorCitizen', sort=False)['Churn'].count(), df_yes['SeniorCitizen'].unique()\n",
    "data7, label7 = df_yes.groupby('Partner', sort=False)['Churn'].count(), df_yes['Partner'].unique()\n",
    "data8, label8 = df_yes.groupby('Dependents', sort=False)['Churn'].count(), df_yes['Dependents'].unique()\n",
    "\n",
    "plt.subplot(4,2,1)\n",
    "plt.pie(data1, labels = label1, autopct='%.0f%%')\n",
    "plt.title('Gender - Stay', fontsize= 12)\n",
    "plt.subplot(4,2,2)\n",
    "plt.pie(data5, labels = label5, autopct='%.0f%%')\n",
    "plt.title('Gender - Leave', fontsize= 12)\n",
    "plt.subplot(4,2,3)\n",
    "plt.pie(data2, labels = label2, autopct='%.0f%%')\n",
    "plt.title('Senior Citizen - Stay', fontsize= 12)\n",
    "plt.subplot(4,2,4)\n",
    "plt.pie(data6, labels = label6, autopct='%.0f%%')\n",
    "plt.title('Senior Citizen - Leave', fontsize= 12)\n",
    "plt.subplot(4,2,5)\n",
    "plt.pie(data3, labels = label3, autopct='%.0f%%')\n",
    "plt.title('Partner - Stay', fontsize= 12)\n",
    "plt.subplot(4,2,6)\n",
    "plt.pie(data7, labels = label7, autopct='%.0f%%')\n",
    "plt.title('Partner - Leave', fontsize= 12)\n",
    "plt.subplot(4,2,7)\n",
    "plt.pie(data4, labels = label4, autopct='%.0f%%')\n",
    "plt.title('Dependents - Stay', fontsize= 12)\n",
    "plt.subplot(4,2,8)\n",
    "plt.pie(data8, labels = label8, autopct='%.0f%%')\n",
    "plt.title('Dependents - Leave', fontsize= 12)\n",
    "\n",
    "plt.show()"
   ]
  },
  {
   "cell_type": "markdown",
   "id": "a2f5aedd",
   "metadata": {},
   "source": [
    "***-There is a balanced distribution of female and male in both classes***\n",
    "\n",
    "***-Both classes are dominated with non-senior citizen, although there are more senior customers to churn than there are who do not churn.***\n",
    "\n",
    "***-Majority of loyal customers are people with partners, while people with no partners are most likely to churn***\n",
    "\n",
    "***-Both classes are dominated with customers who do not have dependents, although there are more loyal customers with dependents than churned customers with dependents.***"
   ]
  },
  {
   "cell_type": "code",
   "execution_count": 155,
   "id": "1c64eccb",
   "metadata": {},
   "outputs": [
    {
     "data": {
      "image/png": "[encoded data removed]",
      "text/plain": [
       "<Figure size 720x360 with 2 Axes>"
      ]
     },
     "metadata": {
      "needs_background": "light"
     },
     "output_type": "display_data"
    }
   ],
   "source": [
    "fig, ax = plt.subplots(1, 2, sharex=True, figsize=(10,5))\n",
    "fig.tight_layout(pad=2)\n",
    "\n",
    "plt.subplot(1,2,1)\n",
    "sns.countplot(x=\"PhoneService\", data=df_no, palette=\"Set1\")\n",
    "plt.title('Phone Service - Stay', fontsize= 12)\n",
    "plt.subplot(1,2,2)\n",
    "sns.countplot(x=\"PhoneService\", data=df_yes, palette=\"Set1\")\n",
    "plt.title('Phone Service - Leave', fontsize= 12)\n",
    "plt.show()"
   ]
  },
  {
   "cell_type": "markdown",
   "id": "a760424a",
   "metadata": {},
   "source": [
    "***There are more customers who signed up for phone service in loyal class (around 4500) than there are who churn (around 1700). Although they dominated both class.***"
   ]
  },
  {
   "cell_type": "code",
   "execution_count": 156,
   "id": "15ced110",
   "metadata": {},
   "outputs": [
    {
     "data": {
      "image/png": "[encoded data removed]",
      "text/plain": [
       "<Figure size 720x360 with 2 Axes>"
      ]
     },
     "metadata": {
      "needs_background": "light"
     },
     "output_type": "display_data"
    }
   ],
   "source": [
    "fig, ax = plt.subplots(1, 2, sharex=True, figsize=(10,5))\n",
    "fig.tight_layout(pad=2)\n",
    "\n",
    "plt.subplot(1,2,1)\n",
    "sns.countplot(x=\"InternetService\", data=df_no, palette=\"Set1\")\n",
    "plt.title('Internet Service - Stay', fontsize= 12)\n",
    "plt.subplot(1,2,2)\n",
    "sns.countplot(x=\"InternetService\", data=df_yes, palette=\"Set1\")\n",
    "plt.title('Internet Service - Leave', fontsize= 12)\n",
    "plt.show()"
   ]
  },
  {
   "cell_type": "markdown",
   "id": "18cbf76e",
   "metadata": {},
   "source": [
    "***Customers signed up for DSL internet service seems to be less likely to churn***"
   ]
  },
  {
   "cell_type": "code",
   "execution_count": 157,
   "id": "973a7b9f",
   "metadata": {},
   "outputs": [
    {
     "data": {
      "image/png": "[encoded data removed]",
      "text/plain": [
       "<Figure size 720x360 with 2 Axes>"
      ]
     },
     "metadata": {
      "needs_background": "light"
     },
     "output_type": "display_data"
    }
   ],
   "source": [
    "fig, ax = plt.subplots(1, 2, sharex=True, figsize=(10,5))\n",
    "fig.tight_layout(pad=2)\n",
    "\n",
    "plt.subplot(1,2,1)\n",
    "sns.countplot(x=\"OnlineSecurity\", data=df_no, palette=\"Set1\")\n",
    "plt.title('Online Security - Stay', fontsize= 12)\n",
    "plt.subplot(1,2,2)\n",
    "sns.countplot(x=\"OnlineSecurity\", data=df_yes, palette=\"Set1\")\n",
    "plt.title('OnlineSecurity - Leave', fontsize= 12)\n",
    "plt.show()"
   ]
  },
  {
   "cell_type": "markdown",
   "id": "6c66da35",
   "metadata": {},
   "source": [
    "***Customers signed up for online security service are less likely to churn***"
   ]
  },
  {
   "cell_type": "code",
   "execution_count": 158,
   "id": "abdee747",
   "metadata": {},
   "outputs": [
    {
     "data": {
      "image/png": "[encoded data removed]",
      "text/plain": [
       "<Figure size 412x360 with 1 Axes>"
      ]
     },
     "metadata": {
      "needs_background": "light"
     },
     "output_type": "display_data"
    }
   ],
   "source": [
    "sns.catplot(x=\"StreamingTV\", hue=\"Churn\", kind=\"count\", data=df)\n",
    "plt.show()"
   ]
  },
  {
   "cell_type": "code",
   "execution_count": 159,
   "id": "05088848",
   "metadata": {},
   "outputs": [
    {
     "data": {
      "text/plain": [
       "<seaborn.axisgrid.FacetGrid at 0x251c3526790>"
      ]
     },
     "execution_count": 159,
     "metadata": {},
     "output_type": "execute_result"
    },
    {
     "data": {
      "image/png": "[encoded data removed]",
      "text/plain": [
       "<Figure size 412x360 with 1 Axes>"
      ]
     },
     "metadata": {
      "needs_background": "light"
     },
     "output_type": "display_data"
    }
   ],
   "source": [
    "sns.catplot(x=\"StreamingMovies\", hue=\"Churn\", kind=\"count\", data=df)"
   ]
  },
  {
   "cell_type": "markdown",
   "id": "4f6a3ecb",
   "metadata": {},
   "source": [
    "***Features streaming TV & Movie seems to be features that are similar to each other by seeing the graph & distribution of it. There are more churned customers who did not sign up for both products, although it is not very significant.***"
   ]
  },
  {
   "cell_type": "code",
   "execution_count": 160,
   "id": "53a3d533",
   "metadata": {},
   "outputs": [
    {
     "data": {
      "image/png": "[encoded data removed]",
      "text/plain": [
       "<Figure size 1080x720 with 6 Axes>"
      ]
     },
     "metadata": {
      "needs_background": "light"
     },
     "output_type": "display_data"
    }
   ],
   "source": [
    "fig, ax = plt.subplots(3, 2, sharex=True, figsize=(15,10))\n",
    "fig.tight_layout(pad=4)\n",
    "\n",
    "plt.subplot(3,2,1)\n",
    "sns.countplot(x=\"PaperlessBilling\", data=df_no, palette=\"Set1\")\n",
    "plt.title('Paperless Billing - Stay', fontsize= 12)\n",
    "plt.subplot(3,2,2)\n",
    "sns.countplot(x=\"PaperlessBilling\", data=df_yes, palette=\"Set1\")\n",
    "plt.title('Paperless Billing - Leave', fontsize= 12)\n",
    "plt.subplot(3,2,3)\n",
    "sns.countplot(x=\"Contract\", data=df_no, palette=\"Set1\")\n",
    "plt.title('Contract - Stay', fontsize= 12)\n",
    "plt.subplot(3,2,4)\n",
    "sns.countplot(x=\"Contract\", data=df_yes, palette=\"Set1\")\n",
    "plt.title('Contract - Leave', fontsize= 12)\n",
    "plt.subplot(3,2,5)\n",
    "sns.countplot(x=\"PaymentMethod\", data=df_no, palette=\"Set1\")\n",
    "plt.title('Payment Method - Stay', fontsize= 12)\n",
    "plt.subplot(3,2,6)\n",
    "sns.countplot(x=\"PaymentMethod\", data=df_yes, palette=\"Set1\")\n",
    "plt.title('Payment Method - Leave', fontsize= 12)\n",
    "\n",
    "plt.show()"
   ]
  },
  {
   "cell_type": "markdown",
   "id": "ec889928",
   "metadata": {},
   "source": [
    "***From these 3 features, we can conclude that customers with longer term contract (one/two year contract) are less likely to churn, and customers whose payment method were electronic check, are more likely to churn than other payment menthod.***"
   ]
  },
  {
   "cell_type": "code",
   "execution_count": 161,
   "id": "da195a2b",
   "metadata": {},
   "outputs": [
    {
     "data": {
      "text/plain": [
       "<AxesSubplot:xlabel='tenure', ylabel='Density'>"
      ]
     },
     "execution_count": 161,
     "metadata": {},
     "output_type": "execute_result"
    },
    {
     "data": {
      "image/png": "[encoded data removed]",
      "text/plain": [
       "<Figure size 1080x576 with 4 Axes>"
      ]
     },
     "metadata": {
      "needs_background": "light"
     },
     "output_type": "display_data"
    }
   ],
   "source": [
    "fig, ax = plt.subplots(2, 2, sharex=True, figsize=(15, 8))\n",
    "fig.tight_layout(pad=4)\n",
    "\n",
    "plt.subplot(2,2,1)\n",
    "sns.kdeplot(data=df, x=\"MonthlyCharges\", hue=\"Churn\", fill=True)\n",
    "plt.subplot(2,2,2)\n",
    "sns.kdeplot(data=df, x=\"TotalCharges\", hue=\"Churn\", fill=True)\n",
    "plt.subplot(2,2,3)\n",
    "sns.kdeplot(data=df, x=\"tenure\", hue=\"Churn\", fill=True)"
   ]
  },
  {
   "cell_type": "markdown",
   "id": "6de24dd3",
   "metadata": {},
   "source": [
    "***The distribution of Total Charges seems to be same for both classes, while customers with a lower monthly charge seems to stay than ones with higher monthly charge. Tenure of both classes totally has a different distribution, customers with longer tenure tends to stay while those with shorter tenure are more likely to leave/churn.***"
   ]
  },
  {
   "cell_type": "markdown",
   "id": "f7b8cea8",
   "metadata": {},
   "source": [
    "**EDA CONCLUSION:**\n",
    "\n",
    "**1) Demographical features: senior citizen, partner, and dependents,**\n",
    "\n",
    "**2) Signed-up pruducts features: internet service, online security, streaming movies, and**\n",
    "\n",
    "**3) Account information: tenure, contract and monthly charge** \n",
    "\n",
    "**are considered to be useful features for our classification model deep learning.**"
   ]
  },
  {
   "cell_type": "markdown",
   "id": "2d814278",
   "metadata": {},
   "source": [
    "# VI. DATA PREPROCESSING"
   ]
  },
  {
   "cell_type": "code",
   "execution_count": 162,
   "id": "eff45543",
   "metadata": {},
   "outputs": [
    {
     "name": "stdout",
     "output_type": "stream",
     "text": [
      "<class 'pandas.core.frame.DataFrame'>\n",
      "RangeIndex: 7043 entries, 0 to 7042\n",
      "Data columns (total 20 columns):\n",
      " #   Column            Non-Null Count  Dtype  \n",
      "---  ------            --------------  -----  \n",
      " 0   gender            7043 non-null   object \n",
      " 1   SeniorCitizen     7043 non-null   int64  \n",
      " 2   Partner           7043 non-null   object \n",
      " 3   Dependents        7043 non-null   object \n",
      " 4   tenure            7043 non-null   int64  \n",
      " 5   PhoneService      7043 non-null   object \n",
      " 6   MultipleLines     7043 non-null   object \n",
      " 7   InternetService   7043 non-null   object \n",
      " 8   OnlineSecurity    7043 non-null   object \n",
      " 9   OnlineBackup      7043 non-null   object \n",
      " 10  DeviceProtection  7043 non-null   object \n",
      " 11  TechSupport       7043 non-null   object \n",
      " 12  StreamingTV       7043 non-null   object \n",
      " 13  StreamingMovies   7043 non-null   object \n",
      " 14  Contract          7043 non-null   object \n",
      " 15  PaperlessBilling  7043 non-null   object \n",
      " 16  PaymentMethod     7043 non-null   object \n",
      " 17  MonthlyCharges    7043 non-null   float64\n",
      " 18  TotalCharges      7032 non-null   float64\n",
      " 19  Churn             7043 non-null   object \n",
      "dtypes: float64(2), int64(2), object(16)\n",
      "memory usage: 1.1+ MB\n"
     ]
    }
   ],
   "source": [
    "df.info()"
   ]
  },
  {
   "cell_type": "markdown",
   "id": "f4e4fddd",
   "metadata": {},
   "source": [
    "**Set new dataset with selected features**"
   ]
  },
  {
   "cell_type": "code",
   "execution_count": 163,
   "id": "33f1f578",
   "metadata": {},
   "outputs": [
    {
     "data": {
      "text/html": [
       "<div>\n",
       "<style scoped>\n",
       "    .dataframe tbody tr th:only-of-type {\n",
       "        vertical-align: middle;\n",
       "    }\n",
       "\n",
       "    .dataframe tbody tr th {\n",
       "        vertical-align: top;\n",
       "    }\n",
       "\n",
       "    .dataframe thead th {\n",
       "        text-align: right;\n",
       "    }\n",
       "</style>\n",
       "<table border=\"1\" class=\"dataframe\">\n",
       "  <thead>\n",
       "    <tr style=\"text-align: right;\">\n",
       "      <th></th>\n",
       "      <th>SeniorCitizen</th>\n",
       "      <th>Partner</th>\n",
       "      <th>Dependents</th>\n",
       "      <th>tenure</th>\n",
       "      <th>InternetService</th>\n",
       "      <th>OnlineSecurity</th>\n",
       "      <th>StreamingMovies</th>\n",
       "      <th>Contract</th>\n",
       "      <th>MonthlyCharges</th>\n",
       "      <th>Churn</th>\n",
       "    </tr>\n",
       "  </thead>\n",
       "  <tbody>\n",
       "    <tr>\n",
       "      <th>0</th>\n",
       "      <td>0</td>\n",
       "      <td>Yes</td>\n",
       "      <td>No</td>\n",
       "      <td>1</td>\n",
       "      <td>DSL</td>\n",
       "      <td>No</td>\n",
       "      <td>No</td>\n",
       "      <td>Month-to-month</td>\n",
       "      <td>29.85</td>\n",
       "      <td>0</td>\n",
       "    </tr>\n",
       "    <tr>\n",
       "      <th>1</th>\n",
       "      <td>0</td>\n",
       "      <td>No</td>\n",
       "      <td>No</td>\n",
       "      <td>34</td>\n",
       "      <td>DSL</td>\n",
       "      <td>Yes</td>\n",
       "      <td>No</td>\n",
       "      <td>One year</td>\n",
       "      <td>56.95</td>\n",
       "      <td>0</td>\n",
       "    </tr>\n",
       "    <tr>\n",
       "      <th>2</th>\n",
       "      <td>0</td>\n",
       "      <td>No</td>\n",
       "      <td>No</td>\n",
       "      <td>2</td>\n",
       "      <td>DSL</td>\n",
       "      <td>Yes</td>\n",
       "      <td>No</td>\n",
       "      <td>Month-to-month</td>\n",
       "      <td>53.85</td>\n",
       "      <td>1</td>\n",
       "    </tr>\n",
       "    <tr>\n",
       "      <th>3</th>\n",
       "      <td>0</td>\n",
       "      <td>No</td>\n",
       "      <td>No</td>\n",
       "      <td>45</td>\n",
       "      <td>DSL</td>\n",
       "      <td>Yes</td>\n",
       "      <td>No</td>\n",
       "      <td>One year</td>\n",
       "      <td>42.30</td>\n",
       "      <td>0</td>\n",
       "    </tr>\n",
       "    <tr>\n",
       "      <th>4</th>\n",
       "      <td>0</td>\n",
       "      <td>No</td>\n",
       "      <td>No</td>\n",
       "      <td>2</td>\n",
       "      <td>Fiber optic</td>\n",
       "      <td>No</td>\n",
       "      <td>No</td>\n",
       "      <td>Month-to-month</td>\n",
       "      <td>70.70</td>\n",
       "      <td>1</td>\n",
       "    </tr>\n",
       "  </tbody>\n",
       "</table>\n",
       "</div>"
      ],
      "text/plain": [
       "   SeniorCitizen Partner Dependents  tenure InternetService OnlineSecurity  \\\n",
       "0              0     Yes         No       1             DSL             No   \n",
       "1              0      No         No      34             DSL            Yes   \n",
       "2              0      No         No       2             DSL            Yes   \n",
       "3              0      No         No      45             DSL            Yes   \n",
       "4              0      No         No       2     Fiber optic             No   \n",
       "\n",
       "  StreamingMovies        Contract  MonthlyCharges  Churn  \n",
       "0              No  Month-to-month           29.85      0  \n",
       "1              No        One year           56.95      0  \n",
       "2              No  Month-to-month           53.85      1  \n",
       "3              No        One year           42.30      0  \n",
       "4              No  Month-to-month           70.70      1  "
      ]
     },
     "execution_count": 163,
     "metadata": {},
     "output_type": "execute_result"
    }
   ],
   "source": [
    "df4model = df.copy()\n",
    "df4model = df[['SeniorCitizen', 'Partner', 'Dependents', 'tenure', 'InternetService', 'OnlineSecurity',\n",
    "        'StreamingMovies', 'Contract', 'MonthlyCharges', 'Churn']]\n",
    "\n",
    "# label encoding for class manually \n",
    "df4model.Churn.replace(('No', 'Yes'), (0, 1), inplace=True)\n",
    "df4model.head()"
   ]
  },
  {
   "cell_type": "markdown",
   "id": "f93a6e0d",
   "metadata": {},
   "source": [
    "**Label Encoding** "
   ]
  },
  {
   "cell_type": "code",
   "execution_count": 164,
   "id": "14b029aa",
   "metadata": {},
   "outputs": [],
   "source": [
    "le = LabelEncoder()\n",
    "\n",
    "# label encoding for some features using label encoder \n",
    "df4model['Partner'] = le.fit_transform(df4model.Partner.values)\n",
    "df4model['Dependents'] = le.fit_transform(df4model.Dependents.values)\n",
    "df4model['InternetService'] = le.fit_transform(df4model.InternetService.values)\n",
    "df4model['OnlineSecurity'] = le.fit_transform(df4model.OnlineSecurity.values)\n",
    "df4model['StreamingMovies'] = le.fit_transform(df4model.StreamingMovies.values)\n",
    "df4model['Contract'] = le.fit_transform(df4model.Contract.values)"
   ]
  },
  {
   "cell_type": "code",
   "execution_count": 165,
   "id": "e663ae0b",
   "metadata": {},
   "outputs": [
    {
     "data": {
      "text/html": [
       "<div>\n",
       "<style scoped>\n",
       "    .dataframe tbody tr th:only-of-type {\n",
       "        vertical-align: middle;\n",
       "    }\n",
       "\n",
       "    .dataframe tbody tr th {\n",
       "        vertical-align: top;\n",
       "    }\n",
       "\n",
       "    .dataframe thead th {\n",
       "        text-align: right;\n",
       "    }\n",
       "</style>\n",
       "<table border=\"1\" class=\"dataframe\">\n",
       "  <thead>\n",
       "    <tr style=\"text-align: right;\">\n",
       "      <th></th>\n",
       "      <th>SeniorCitizen</th>\n",
       "      <th>Partner</th>\n",
       "      <th>Dependents</th>\n",
       "      <th>tenure</th>\n",
       "      <th>InternetService</th>\n",
       "      <th>OnlineSecurity</th>\n",
       "      <th>StreamingMovies</th>\n",
       "      <th>Contract</th>\n",
       "      <th>MonthlyCharges</th>\n",
       "      <th>Churn</th>\n",
       "    </tr>\n",
       "  </thead>\n",
       "  <tbody>\n",
       "    <tr>\n",
       "      <th>0</th>\n",
       "      <td>0</td>\n",
       "      <td>1</td>\n",
       "      <td>0</td>\n",
       "      <td>1</td>\n",
       "      <td>0</td>\n",
       "      <td>0</td>\n",
       "      <td>0</td>\n",
       "      <td>0</td>\n",
       "      <td>29.85</td>\n",
       "      <td>0</td>\n",
       "    </tr>\n",
       "    <tr>\n",
       "      <th>1</th>\n",
       "      <td>0</td>\n",
       "      <td>0</td>\n",
       "      <td>0</td>\n",
       "      <td>34</td>\n",
       "      <td>0</td>\n",
       "      <td>2</td>\n",
       "      <td>0</td>\n",
       "      <td>1</td>\n",
       "      <td>56.95</td>\n",
       "      <td>0</td>\n",
       "    </tr>\n",
       "    <tr>\n",
       "      <th>2</th>\n",
       "      <td>0</td>\n",
       "      <td>0</td>\n",
       "      <td>0</td>\n",
       "      <td>2</td>\n",
       "      <td>0</td>\n",
       "      <td>2</td>\n",
       "      <td>0</td>\n",
       "      <td>0</td>\n",
       "      <td>53.85</td>\n",
       "      <td>1</td>\n",
       "    </tr>\n",
       "    <tr>\n",
       "      <th>3</th>\n",
       "      <td>0</td>\n",
       "      <td>0</td>\n",
       "      <td>0</td>\n",
       "      <td>45</td>\n",
       "      <td>0</td>\n",
       "      <td>2</td>\n",
       "      <td>0</td>\n",
       "      <td>1</td>\n",
       "      <td>42.30</td>\n",
       "      <td>0</td>\n",
       "    </tr>\n",
       "    <tr>\n",
       "      <th>4</th>\n",
       "      <td>0</td>\n",
       "      <td>0</td>\n",
       "      <td>0</td>\n",
       "      <td>2</td>\n",
       "      <td>1</td>\n",
       "      <td>0</td>\n",
       "      <td>0</td>\n",
       "      <td>0</td>\n",
       "      <td>70.70</td>\n",
       "      <td>1</td>\n",
       "    </tr>\n",
       "  </tbody>\n",
       "</table>\n",
       "</div>"
      ],
      "text/plain": [
       "   SeniorCitizen  Partner  Dependents  tenure  InternetService  \\\n",
       "0              0        1           0       1                0   \n",
       "1              0        0           0      34                0   \n",
       "2              0        0           0       2                0   \n",
       "3              0        0           0      45                0   \n",
       "4              0        0           0       2                1   \n",
       "\n",
       "   OnlineSecurity  StreamingMovies  Contract  MonthlyCharges  Churn  \n",
       "0               0                0         0           29.85      0  \n",
       "1               2                0         1           56.95      0  \n",
       "2               2                0         0           53.85      1  \n",
       "3               2                0         1           42.30      0  \n",
       "4               0                0         0           70.70      1  "
      ]
     },
     "execution_count": 165,
     "metadata": {},
     "output_type": "execute_result"
    }
   ],
   "source": [
    "df4model.head()"
   ]
  },
  {
   "cell_type": "markdown",
   "id": "3214cdd8",
   "metadata": {},
   "source": [
    "**CORRELATION BETWEEN SELECTED FEATURES BASED ON EDA CONCLUSION ON A HEATMAP:**"
   ]
  },
  {
   "cell_type": "code",
   "execution_count": 166,
   "id": "f41beba5",
   "metadata": {},
   "outputs": [
    {
     "data": {
      "image/png": "[encoded data removed]",
      "text/plain": [
       "<Figure size 1440x720 with 2 Axes>"
      ]
     },
     "metadata": {
      "needs_background": "light"
     },
     "output_type": "display_data"
    }
   ],
   "source": [
    "plt.figure(figsize=(20,10))\n",
    "sns.heatmap(df4model.corr(),cmap=plt.cm.Reds,annot=True)\n",
    "plt.title('Heatmap displaying the corellation between selected features of the data', fontsize=15)\n",
    "plt.show()"
   ]
  },
  {
   "cell_type": "markdown",
   "id": "e034696f",
   "metadata": {},
   "source": [
    "**Set features and class**"
   ]
  },
  {
   "cell_type": "code",
   "execution_count": 167,
   "id": "073a5a79",
   "metadata": {},
   "outputs": [
    {
     "name": "stdout",
     "output_type": "stream",
     "text": [
      "X Shape: (7043, 9)\n",
      "y Shape: (7043, 1)\n"
     ]
    }
   ],
   "source": [
    "X = df4model.drop(['Churn'], axis=1)\n",
    "y = df4model[['Churn']]\n",
    "#y = np.asarray(df4model['Churn']).astype('float32').reshape((-1,1))\n",
    "print('X Shape:', X.shape)\n",
    "print('y Shape:', y.shape)"
   ]
  },
  {
   "cell_type": "markdown",
   "id": "2edd84b0",
   "metadata": {},
   "source": [
    "**Split data into separate training, validation, and test set**"
   ]
  },
  {
   "cell_type": "code",
   "execution_count": 168,
   "id": "fbb55706",
   "metadata": {},
   "outputs": [
    {
     "name": "stdout",
     "output_type": "stream",
     "text": [
      "X_train shape: (5070, 9)\n",
      "X_val Shape: (564, 9)\n",
      "X_test Shape: (1409, 9)\n"
     ]
    }
   ],
   "source": [
    "X_train, X_test, y_train, y_test = train_test_split(X, y, test_size=0.2, random_state=42)\n",
    "X_train, X_val, y_train, y_val = train_test_split(X_train, y_train, test_size=0.1, random_state=42)\n",
    "print('X_train shape:', X_train.shape)\n",
    "print('X_val Shape:', X_val.shape)\n",
    "print('X_test Shape:', X_test.shape)"
   ]
  },
  {
   "cell_type": "markdown",
   "id": "25958f9b",
   "metadata": {},
   "source": [
    "**Data Scaling**"
   ]
  },
  {
   "cell_type": "code",
   "execution_count": 169,
   "id": "9c95d725",
   "metadata": {},
   "outputs": [],
   "source": [
    "scaler = StandardScaler()\n",
    "X_train = scaler.fit_transform(X_train)\n",
    "X_val = scaler.transform(X_val)\n",
    "X_test = scaler.transform(X_test)"
   ]
  },
  {
   "cell_type": "markdown",
   "id": "8cbe6de6",
   "metadata": {},
   "source": [
    "# VII. DEEP LEARNING "
   ]
  },
  {
   "cell_type": "markdown",
   "id": "992bf2f6",
   "metadata": {},
   "source": [
    "**In this section I will make an ANN sequential and ANN functional model to make predictions.**"
   ]
  },
  {
   "cell_type": "markdown",
   "id": "76540b3b",
   "metadata": {},
   "source": [
    "# 1) ANN Sequential API"
   ]
  },
  {
   "cell_type": "markdown",
   "id": "0471fb09",
   "metadata": {},
   "source": [
    "***ANN Sequential API with 3 hidden layers using relu activation, each layer set with 100-50-50 neurons, and trained to 50 epoch with early stopping, and using adam as optimizer.***"
   ]
  },
  {
   "cell_type": "code",
   "execution_count": 170,
   "id": "50f81b3b",
   "metadata": {},
   "outputs": [],
   "source": [
    "np.random.seed(42)\n",
    "tf.random.set_seed(42)"
   ]
  },
  {
   "cell_type": "markdown",
   "id": "f2c9d83a",
   "metadata": {},
   "source": [
    "**MODEL DEFINITION**"
   ]
  },
  {
   "cell_type": "code",
   "execution_count": 171,
   "id": "f26e7d62",
   "metadata": {},
   "outputs": [],
   "source": [
    "model1 = keras.models.Sequential([\n",
    "    keras.layers.Dense(100, input_shape=(9,), activation=\"relu\"),\n",
    "    keras.layers.Dense(50, activation=\"relu\"),\n",
    "    keras.layers.Dense(50, activation=\"relu\"),\n",
    "    keras.layers.Dense(1, activation=\"sigmoid\")\n",
    "])"
   ]
  },
  {
   "cell_type": "code",
   "execution_count": 172,
   "id": "54759070",
   "metadata": {},
   "outputs": [
    {
     "name": "stdout",
     "output_type": "stream",
     "text": [
      "Model: \"sequential_4\"\n",
      "_________________________________________________________________\n",
      " Layer (type)                Output Shape              Param #   \n",
      "=================================================================\n",
      " dense_46 (Dense)            (None, 100)               1000      \n",
      "                                                                 \n",
      " dense_47 (Dense)            (None, 50)                5050      \n",
      "                                                                 \n",
      " dense_48 (Dense)            (None, 50)                2550      \n",
      "                                                                 \n",
      " dense_49 (Dense)            (None, 1)                 51        \n",
      "                                                                 \n",
      "=================================================================\n",
      "Total params: 8,651\n",
      "Trainable params: 8,651\n",
      "Non-trainable params: 0\n",
      "_________________________________________________________________\n"
     ]
    }
   ],
   "source": [
    "model1.summary()"
   ]
  },
  {
   "cell_type": "markdown",
   "id": "046ddad7",
   "metadata": {},
   "source": [
    "**MODEL COMPILE**"
   ]
  },
  {
   "cell_type": "code",
   "execution_count": 173,
   "id": "1fbc3179",
   "metadata": {},
   "outputs": [],
   "source": [
    "model1.compile(loss='binary_crossentropy', optimizer='adam', metrics=['accuracy'])"
   ]
  },
  {
   "cell_type": "markdown",
   "id": "53a96f0e",
   "metadata": {},
   "source": [
    "**MODEL TRAINING**"
   ]
  },
  {
   "cell_type": "code",
   "execution_count": 174,
   "id": "7e815c66",
   "metadata": {},
   "outputs": [],
   "source": [
    "# setting early stopping for best score \n",
    "es = EarlyStopping(monitor='val_loss', mode='min', verbose=1, patience=20)"
   ]
  },
  {
   "cell_type": "code",
   "execution_count": 175,
   "id": "ae60321c",
   "metadata": {},
   "outputs": [
    {
     "name": "stdout",
     "output_type": "stream",
     "text": [
      "Epoch 1/50\n",
      "159/159 [==============================] - 1s 2ms/step - loss: 0.4663 - accuracy: 0.7661 - val_loss: 0.4056 - val_accuracy: 0.8138\n",
      "Epoch 2/50\n",
      "159/159 [==============================] - 0s 1ms/step - loss: 0.4334 - accuracy: 0.7840 - val_loss: 0.4124 - val_accuracy: 0.8085\n",
      "Epoch 3/50\n",
      "159/159 [==============================] - 0s 1ms/step - loss: 0.4300 - accuracy: 0.7929 - val_loss: 0.4007 - val_accuracy: 0.8121\n",
      "Epoch 4/50\n",
      "159/159 [==============================] - 0s 1ms/step - loss: 0.4268 - accuracy: 0.7937 - val_loss: 0.4035 - val_accuracy: 0.8156\n",
      "Epoch 5/50\n",
      "159/159 [==============================] - 0s 1ms/step - loss: 0.4229 - accuracy: 0.7988 - val_loss: 0.4093 - val_accuracy: 0.8014\n",
      "Epoch 6/50\n",
      "159/159 [==============================] - 0s 1ms/step - loss: 0.4228 - accuracy: 0.7980 - val_loss: 0.4013 - val_accuracy: 0.8103\n",
      "Epoch 7/50\n",
      "159/159 [==============================] - 0s 1ms/step - loss: 0.4209 - accuracy: 0.7957 - val_loss: 0.4049 - val_accuracy: 0.7979\n",
      "Epoch 8/50\n",
      "159/159 [==============================] - 0s 1ms/step - loss: 0.4190 - accuracy: 0.7966 - val_loss: 0.4084 - val_accuracy: 0.7961\n",
      "Epoch 9/50\n",
      "159/159 [==============================] - 0s 1ms/step - loss: 0.4192 - accuracy: 0.7988 - val_loss: 0.4023 - val_accuracy: 0.8138\n",
      "Epoch 10/50\n",
      "159/159 [==============================] - 0s 1ms/step - loss: 0.4178 - accuracy: 0.7980 - val_loss: 0.4174 - val_accuracy: 0.7943\n",
      "Epoch 11/50\n",
      "159/159 [==============================] - 0s 1ms/step - loss: 0.4185 - accuracy: 0.7982 - val_loss: 0.4041 - val_accuracy: 0.8050\n",
      "Epoch 12/50\n",
      "159/159 [==============================] - 0s 1ms/step - loss: 0.4157 - accuracy: 0.8006 - val_loss: 0.4047 - val_accuracy: 0.8067\n",
      "Epoch 13/50\n",
      "159/159 [==============================] - 0s 1ms/step - loss: 0.4137 - accuracy: 0.8016 - val_loss: 0.4063 - val_accuracy: 0.8014\n",
      "Epoch 14/50\n",
      "159/159 [==============================] - 0s 1ms/step - loss: 0.4129 - accuracy: 0.8051 - val_loss: 0.4065 - val_accuracy: 0.8085\n",
      "Epoch 15/50\n",
      "159/159 [==============================] - 0s 1ms/step - loss: 0.4133 - accuracy: 0.7986 - val_loss: 0.4065 - val_accuracy: 0.8103\n",
      "Epoch 16/50\n",
      "159/159 [==============================] - 0s 1ms/step - loss: 0.4126 - accuracy: 0.8000 - val_loss: 0.4074 - val_accuracy: 0.8103\n",
      "Epoch 17/50\n",
      "159/159 [==============================] - 0s 1ms/step - loss: 0.4111 - accuracy: 0.8002 - val_loss: 0.4112 - val_accuracy: 0.8067\n",
      "Epoch 18/50\n",
      "159/159 [==============================] - 0s 1ms/step - loss: 0.4109 - accuracy: 0.8022 - val_loss: 0.4075 - val_accuracy: 0.8085\n",
      "Epoch 19/50\n",
      "159/159 [==============================] - 0s 1ms/step - loss: 0.4097 - accuracy: 0.8022 - val_loss: 0.4195 - val_accuracy: 0.7996\n",
      "Epoch 20/50\n",
      "159/159 [==============================] - 0s 1ms/step - loss: 0.4084 - accuracy: 0.8024 - val_loss: 0.4126 - val_accuracy: 0.8050\n",
      "Epoch 21/50\n",
      "159/159 [==============================] - 0s 1ms/step - loss: 0.4101 - accuracy: 0.8036 - val_loss: 0.4098 - val_accuracy: 0.8103\n",
      "Epoch 22/50\n",
      "159/159 [==============================] - 0s 1ms/step - loss: 0.4086 - accuracy: 0.8032 - val_loss: 0.4060 - val_accuracy: 0.8138\n",
      "Epoch 23/50\n",
      "159/159 [==============================] - 0s 1ms/step - loss: 0.4064 - accuracy: 0.8037 - val_loss: 0.4093 - val_accuracy: 0.8103\n",
      "Epoch 00023: early stopping\n"
     ]
    }
   ],
   "source": [
    "history1 = model1.fit(X_train, y_train, epochs=50, validation_data=(X_val, y_val), callbacks=[es])"
   ]
  },
  {
   "cell_type": "code",
   "execution_count": 176,
   "id": "a0600cfa",
   "metadata": {},
   "outputs": [
    {
     "data": {
      "image/png": "[encoded data removed]",
      "text/plain": [
       "<Figure size 576x360 with 1 Axes>"
      ]
     },
     "metadata": {
      "needs_background": "light"
     },
     "output_type": "display_data"
    }
   ],
   "source": [
    "pd.DataFrame(history1.history).plot(figsize=(8, 5))\n",
    "plt.grid(True)\n",
    "plt.gca().set_ylim(0, 1)\n",
    "plt.show()"
   ]
  },
  {
   "cell_type": "markdown",
   "id": "0c8bd25a",
   "metadata": {},
   "source": [
    "**MODEL EVALUATION: Accuracy**"
   ]
  },
  {
   "cell_type": "code",
   "execution_count": 177,
   "id": "ad44c518",
   "metadata": {},
   "outputs": [
    {
     "name": "stdout",
     "output_type": "stream",
     "text": [
      "45/45 [==============================] - 0s 791us/step - loss: 0.4178 - accuracy: 0.7956\n"
     ]
    }
   ],
   "source": [
    "model1_score = model1.evaluate(X_test, y_test)"
   ]
  },
  {
   "cell_type": "markdown",
   "id": "02c2dd27",
   "metadata": {},
   "source": [
    "**MODEL IMPROVEMENT**"
   ]
  },
  {
   "cell_type": "markdown",
   "id": "67f02261",
   "metadata": {},
   "source": [
    "***with 2 hidden layers using relu activation, each layer set with 50 neurons, and trained to 30 epoch WIHTOUT early stopping, and using SGD as optimizer.***"
   ]
  },
  {
   "cell_type": "code",
   "execution_count": 178,
   "id": "19eaa251",
   "metadata": {},
   "outputs": [],
   "source": [
    "np.random.seed(42)\n",
    "tf.random.set_seed(42)"
   ]
  },
  {
   "cell_type": "markdown",
   "id": "1d4ff6a7",
   "metadata": {},
   "source": [
    "**MODEL DEFINITION**"
   ]
  },
  {
   "cell_type": "code",
   "execution_count": 179,
   "id": "e210b342",
   "metadata": {},
   "outputs": [],
   "source": [
    "model2 = keras.models.Sequential([\n",
    "    keras.layers.Dense(50, input_shape=(9,), activation=\"relu\"),\n",
    "    keras.layers.Dense(50, activation=\"relu\"),\n",
    "    keras.layers.Dense(1, activation=\"sigmoid\")\n",
    "])"
   ]
  },
  {
   "cell_type": "code",
   "execution_count": 180,
   "id": "09993459",
   "metadata": {},
   "outputs": [
    {
     "name": "stdout",
     "output_type": "stream",
     "text": [
      "Model: \"sequential_5\"\n",
      "_________________________________________________________________\n",
      " Layer (type)                Output Shape              Param #   \n",
      "=================================================================\n",
      " dense_50 (Dense)            (None, 50)                500       \n",
      "                                                                 \n",
      " dense_51 (Dense)            (None, 50)                2550      \n",
      "                                                                 \n",
      " dense_52 (Dense)            (None, 1)                 51        \n",
      "                                                                 \n",
      "=================================================================\n",
      "Total params: 3,101\n",
      "Trainable params: 3,101\n",
      "Non-trainable params: 0\n",
      "_________________________________________________________________\n"
     ]
    }
   ],
   "source": [
    "model2.summary()"
   ]
  },
  {
   "cell_type": "markdown",
   "id": "ae743e1f",
   "metadata": {},
   "source": [
    "**MODEL COMPILE**"
   ]
  },
  {
   "cell_type": "code",
   "execution_count": 181,
   "id": "bd9bdac2",
   "metadata": {},
   "outputs": [],
   "source": [
    "model2.compile(loss='binary_crossentropy', optimizer='sgd', metrics=['accuracy'])"
   ]
  },
  {
   "cell_type": "markdown",
   "id": "f098ab53",
   "metadata": {},
   "source": [
    "**MODEL TRAINING**"
   ]
  },
  {
   "cell_type": "code",
   "execution_count": 182,
   "id": "a7c1a4a9",
   "metadata": {
    "scrolled": false
   },
   "outputs": [
    {
     "name": "stdout",
     "output_type": "stream",
     "text": [
      "Epoch 1/30\n",
      "159/159 [==============================] - 1s 3ms/step - loss: 0.5501 - accuracy: 0.7327 - val_loss: 0.4903 - val_accuracy: 0.7376\n",
      "Epoch 2/30\n",
      "159/159 [==============================] - 0s 1ms/step - loss: 0.4857 - accuracy: 0.7469 - val_loss: 0.4532 - val_accuracy: 0.7748\n",
      "Epoch 3/30\n",
      "159/159 [==============================] - 0s 1ms/step - loss: 0.4631 - accuracy: 0.7663 - val_loss: 0.4353 - val_accuracy: 0.8085\n",
      "Epoch 4/30\n",
      "159/159 [==============================] - 0s 1ms/step - loss: 0.4522 - accuracy: 0.7750 - val_loss: 0.4252 - val_accuracy: 0.8085\n",
      "Epoch 5/30\n",
      "159/159 [==============================] - 0s 1ms/step - loss: 0.4460 - accuracy: 0.7755 - val_loss: 0.4187 - val_accuracy: 0.8121\n",
      "Epoch 6/30\n",
      "159/159 [==============================] - 0s 1ms/step - loss: 0.4420 - accuracy: 0.7793 - val_loss: 0.4141 - val_accuracy: 0.8174\n",
      "Epoch 7/30\n",
      "159/159 [==============================] - 0s 1ms/step - loss: 0.4391 - accuracy: 0.7821 - val_loss: 0.4107 - val_accuracy: 0.8209\n",
      "Epoch 8/30\n",
      "159/159 [==============================] - 0s 1ms/step - loss: 0.4370 - accuracy: 0.7838 - val_loss: 0.4084 - val_accuracy: 0.8174\n",
      "Epoch 9/30\n",
      "159/159 [==============================] - 0s 1ms/step - loss: 0.4355 - accuracy: 0.7854 - val_loss: 0.4064 - val_accuracy: 0.8227\n",
      "Epoch 10/30\n",
      "159/159 [==============================] - 0s 1ms/step - loss: 0.4342 - accuracy: 0.7874 - val_loss: 0.4054 - val_accuracy: 0.8227\n",
      "Epoch 11/30\n",
      "159/159 [==============================] - 0s 1ms/step - loss: 0.4332 - accuracy: 0.7886 - val_loss: 0.4043 - val_accuracy: 0.8227\n",
      "Epoch 12/30\n",
      "159/159 [==============================] - 0s 1ms/step - loss: 0.4322 - accuracy: 0.7884 - val_loss: 0.4037 - val_accuracy: 0.8245\n",
      "Epoch 13/30\n",
      "159/159 [==============================] - 0s 1ms/step - loss: 0.4314 - accuracy: 0.7882 - val_loss: 0.4030 - val_accuracy: 0.8245\n",
      "Epoch 14/30\n",
      "159/159 [==============================] - 0s 1ms/step - loss: 0.4309 - accuracy: 0.7895 - val_loss: 0.4024 - val_accuracy: 0.8245\n",
      "Epoch 15/30\n",
      "159/159 [==============================] - 0s 1ms/step - loss: 0.4302 - accuracy: 0.7888 - val_loss: 0.4019 - val_accuracy: 0.8245\n",
      "Epoch 16/30\n",
      "159/159 [==============================] - 0s 1ms/step - loss: 0.4296 - accuracy: 0.7897 - val_loss: 0.4013 - val_accuracy: 0.8245\n",
      "Epoch 17/30\n",
      "159/159 [==============================] - 0s 1ms/step - loss: 0.4290 - accuracy: 0.7927 - val_loss: 0.4007 - val_accuracy: 0.8245\n",
      "Epoch 18/30\n",
      "159/159 [==============================] - 0s 1ms/step - loss: 0.4285 - accuracy: 0.7903 - val_loss: 0.4008 - val_accuracy: 0.8262\n",
      "Epoch 19/30\n",
      "159/159 [==============================] - 0s 1ms/step - loss: 0.4281 - accuracy: 0.7933 - val_loss: 0.4008 - val_accuracy: 0.8209\n",
      "Epoch 20/30\n",
      "159/159 [==============================] - 0s 1ms/step - loss: 0.4278 - accuracy: 0.7915 - val_loss: 0.4005 - val_accuracy: 0.8209\n",
      "Epoch 21/30\n",
      "159/159 [==============================] - 0s 1ms/step - loss: 0.4275 - accuracy: 0.7929 - val_loss: 0.4001 - val_accuracy: 0.8209\n",
      "Epoch 22/30\n",
      "159/159 [==============================] - 0s 1ms/step - loss: 0.4269 - accuracy: 0.7921 - val_loss: 0.4002 - val_accuracy: 0.8209\n",
      "Epoch 23/30\n",
      "159/159 [==============================] - 0s 1ms/step - loss: 0.4267 - accuracy: 0.7905 - val_loss: 0.4000 - val_accuracy: 0.8209\n",
      "Epoch 24/30\n",
      "159/159 [==============================] - 0s 1ms/step - loss: 0.4263 - accuracy: 0.7935 - val_loss: 0.3998 - val_accuracy: 0.8191\n",
      "Epoch 25/30\n",
      "159/159 [==============================] - 0s 1ms/step - loss: 0.4261 - accuracy: 0.7933 - val_loss: 0.4000 - val_accuracy: 0.8191\n",
      "Epoch 26/30\n",
      "159/159 [==============================] - 0s 1ms/step - loss: 0.4259 - accuracy: 0.7933 - val_loss: 0.3996 - val_accuracy: 0.8191\n",
      "Epoch 27/30\n",
      "159/159 [==============================] - 0s 1ms/step - loss: 0.4256 - accuracy: 0.7933 - val_loss: 0.3996 - val_accuracy: 0.8209\n",
      "Epoch 28/30\n",
      "159/159 [==============================] - 0s 1ms/step - loss: 0.4253 - accuracy: 0.7931 - val_loss: 0.3996 - val_accuracy: 0.8191\n",
      "Epoch 29/30\n",
      "159/159 [==============================] - 0s 1ms/step - loss: 0.4251 - accuracy: 0.7919 - val_loss: 0.3996 - val_accuracy: 0.8191\n",
      "Epoch 30/30\n",
      "159/159 [==============================] - 0s 1ms/step - loss: 0.4248 - accuracy: 0.7947 - val_loss: 0.3998 - val_accuracy: 0.8174\n"
     ]
    }
   ],
   "source": [
    "history2 = model2.fit(X_train, y_train, epochs=30, validation_data=(X_val, y_val))\n",
    "y_pred = model2.predict(X_test)"
   ]
  },
  {
   "cell_type": "code",
   "execution_count": 183,
   "id": "b43b7c0e",
   "metadata": {},
   "outputs": [
    {
     "data": {
      "image/png": "[encoded data removed]",
      "text/plain": [
       "<Figure size 576x360 with 1 Axes>"
      ]
     },
     "metadata": {
      "needs_background": "light"
     },
     "output_type": "display_data"
    }
   ],
   "source": [
    "pd.DataFrame(history2.history).plot(figsize=(8, 5))\n",
    "plt.grid(True)\n",
    "plt.gca().set_ylim(0, 1)\n",
    "plt.show()"
   ]
  },
  {
   "cell_type": "markdown",
   "id": "e982462b",
   "metadata": {},
   "source": [
    "**MODEL EVALUATION: Accuracy**"
   ]
  },
  {
   "cell_type": "code",
   "execution_count": 184,
   "id": "5d12c0c9",
   "metadata": {},
   "outputs": [
    {
     "name": "stdout",
     "output_type": "stream",
     "text": [
      "45/45 [==============================] - 0s 789us/step - loss: 0.4076 - accuracy: 0.8077\n"
     ]
    }
   ],
   "source": [
    "model2_score = model2.evaluate(X_test, y_test)"
   ]
  },
  {
   "cell_type": "markdown",
   "id": "f8d3314f",
   "metadata": {},
   "source": [
    "# 2) ANN Functional API"
   ]
  },
  {
   "cell_type": "markdown",
   "id": "f83f00b0",
   "metadata": {},
   "source": [
    "***with 3 hidden layers, each layer set with 50 neurons, using relu activation. Trained to 30 epochs WITHOUT early stopping, and using SGD as optimizer.***"
   ]
  },
  {
   "cell_type": "code",
   "execution_count": 185,
   "id": "559c0330",
   "metadata": {},
   "outputs": [],
   "source": [
    "np.random.seed(42)\n",
    "tf.random.set_seed(42)"
   ]
  },
  {
   "cell_type": "markdown",
   "id": "afcd2772",
   "metadata": {},
   "source": [
    "**MODEL DEFINITION**"
   ]
  },
  {
   "cell_type": "code",
   "execution_count": 186,
   "id": "7282157a",
   "metadata": {},
   "outputs": [],
   "source": [
    "input_ = keras.layers.Input(shape=X_train.shape[1:])\n",
    "hidden1 = keras.layers.Dense(50, activation=\"relu\")(input_)\n",
    "hidden2 = keras.layers.Dense(50, activation=\"relu\")(hidden1)\n",
    "hidden3 = keras.layers.Dense(50, activation=\"relu\")(hidden2)\n",
    "concat = keras.layers.concatenate([input_, hidden3])\n",
    "output = keras.layers.Dense(1)(concat)\n",
    "model_func = keras.models.Model(inputs=[input_], outputs=[output])"
   ]
  },
  {
   "cell_type": "code",
   "execution_count": 187,
   "id": "59f78527",
   "metadata": {},
   "outputs": [
    {
     "name": "stdout",
     "output_type": "stream",
     "text": [
      "Model: \"model_6\"\n",
      "__________________________________________________________________________________________________\n",
      " Layer (type)                   Output Shape         Param #     Connected to                     \n",
      "==================================================================================================\n",
      " input_7 (InputLayer)           [(None, 9)]          0           []                               \n",
      "                                                                                                  \n",
      " dense_53 (Dense)               (None, 50)           500         ['input_7[0][0]']                \n",
      "                                                                                                  \n",
      " dense_54 (Dense)               (None, 50)           2550        ['dense_53[0][0]']               \n",
      "                                                                                                  \n",
      " dense_55 (Dense)               (None, 50)           2550        ['dense_54[0][0]']               \n",
      "                                                                                                  \n",
      " concatenate_6 (Concatenate)    (None, 59)           0           ['input_7[0][0]',                \n",
      "                                                                  'dense_55[0][0]']               \n",
      "                                                                                                  \n",
      " dense_56 (Dense)               (None, 1)            60          ['concatenate_6[0][0]']          \n",
      "                                                                                                  \n",
      "==================================================================================================\n",
      "Total params: 5,660\n",
      "Trainable params: 5,660\n",
      "Non-trainable params: 0\n",
      "__________________________________________________________________________________________________\n"
     ]
    }
   ],
   "source": [
    "model_func.summary()"
   ]
  },
  {
   "cell_type": "markdown",
   "id": "77e803a1",
   "metadata": {},
   "source": [
    "**MODEL COMPILE**"
   ]
  },
  {
   "cell_type": "code",
   "execution_count": 188,
   "id": "50342d89",
   "metadata": {},
   "outputs": [],
   "source": [
    "model_func.compile(loss='binary_crossentropy', optimizer=keras.optimizers.SGD(lr=1e-3), metrics=['accuracy'])"
   ]
  },
  {
   "cell_type": "markdown",
   "id": "0c7a9054",
   "metadata": {},
   "source": [
    "**MODEL TRAINING**"
   ]
  },
  {
   "cell_type": "code",
   "execution_count": 189,
   "id": "b38c67cc",
   "metadata": {},
   "outputs": [
    {
     "name": "stdout",
     "output_type": "stream",
     "text": [
      "Epoch 1/30\n",
      "159/159 [==============================] - 1s 2ms/step - loss: 0.8989 - accuracy: 0.6957 - val_loss: 0.5244 - val_accuracy: 0.7270\n",
      "Epoch 2/30\n",
      "159/159 [==============================] - 0s 1ms/step - loss: 0.5401 - accuracy: 0.7483 - val_loss: 0.4920 - val_accuracy: 0.7730\n",
      "Epoch 3/30\n",
      "159/159 [==============================] - 0s 1ms/step - loss: 0.5112 - accuracy: 0.7639 - val_loss: 0.4949 - val_accuracy: 0.7660\n",
      "Epoch 4/30\n",
      "159/159 [==============================] - 0s 1ms/step - loss: 0.4932 - accuracy: 0.7750 - val_loss: 0.4713 - val_accuracy: 0.8050\n",
      "Epoch 5/30\n",
      "159/159 [==============================] - 0s 1ms/step - loss: 0.4937 - accuracy: 0.7783 - val_loss: 0.4668 - val_accuracy: 0.8032\n",
      "Epoch 6/30\n",
      "159/159 [==============================] - 0s 1ms/step - loss: 0.4857 - accuracy: 0.7789 - val_loss: 0.4788 - val_accuracy: 0.7996\n",
      "Epoch 7/30\n",
      "159/159 [==============================] - 0s 1ms/step - loss: 0.4871 - accuracy: 0.7793 - val_loss: 0.4641 - val_accuracy: 0.8085\n",
      "Epoch 8/30\n",
      "159/159 [==============================] - 0s 1ms/step - loss: 0.4915 - accuracy: 0.7807 - val_loss: 0.4594 - val_accuracy: 0.8138\n",
      "Epoch 9/30\n",
      "159/159 [==============================] - 0s 1ms/step - loss: 0.4897 - accuracy: 0.7781 - val_loss: 0.4715 - val_accuracy: 0.7943\n",
      "Epoch 10/30\n",
      "159/159 [==============================] - 0s 1ms/step - loss: 0.4903 - accuracy: 0.7815 - val_loss: 0.4601 - val_accuracy: 0.8103\n",
      "Epoch 11/30\n",
      "159/159 [==============================] - 0s 1ms/step - loss: 0.4892 - accuracy: 0.7821 - val_loss: 0.4553 - val_accuracy: 0.8103\n",
      "Epoch 12/30\n",
      "159/159 [==============================] - 0s 1ms/step - loss: 0.4836 - accuracy: 0.7830 - val_loss: 0.4551 - val_accuracy: 0.8103\n",
      "Epoch 13/30\n",
      "159/159 [==============================] - 0s 1ms/step - loss: 0.4836 - accuracy: 0.7815 - val_loss: 0.4536 - val_accuracy: 0.8103\n",
      "Epoch 14/30\n",
      "159/159 [==============================] - 0s 1ms/step - loss: 0.4821 - accuracy: 0.7842 - val_loss: 0.4516 - val_accuracy: 0.8085\n",
      "Epoch 15/30\n",
      "159/159 [==============================] - 0s 1ms/step - loss: 0.4811 - accuracy: 0.7828 - val_loss: 0.4501 - val_accuracy: 0.8121\n",
      "Epoch 16/30\n",
      "159/159 [==============================] - 0s 1ms/step - loss: 0.4803 - accuracy: 0.7856 - val_loss: 0.4510 - val_accuracy: 0.8174\n",
      "Epoch 17/30\n",
      "159/159 [==============================] - 0s 1ms/step - loss: 0.4796 - accuracy: 0.7860 - val_loss: 0.4499 - val_accuracy: 0.8121\n",
      "Epoch 18/30\n",
      "159/159 [==============================] - 0s 1ms/step - loss: 0.4791 - accuracy: 0.7870 - val_loss: 0.4504 - val_accuracy: 0.8121\n",
      "Epoch 19/30\n",
      "159/159 [==============================] - 0s 1ms/step - loss: 0.4784 - accuracy: 0.7856 - val_loss: 0.4505 - val_accuracy: 0.8138\n",
      "Epoch 20/30\n",
      "159/159 [==============================] - 0s 1ms/step - loss: 0.4780 - accuracy: 0.7864 - val_loss: 0.4495 - val_accuracy: 0.8121\n",
      "Epoch 21/30\n",
      "159/159 [==============================] - 0s 1ms/step - loss: 0.4773 - accuracy: 0.7862 - val_loss: 0.4487 - val_accuracy: 0.8156\n",
      "Epoch 22/30\n",
      "159/159 [==============================] - 0s 1ms/step - loss: 0.4769 - accuracy: 0.7868 - val_loss: 0.4492 - val_accuracy: 0.8156\n",
      "Epoch 23/30\n",
      "159/159 [==============================] - 0s 1ms/step - loss: 0.4766 - accuracy: 0.7868 - val_loss: 0.4492 - val_accuracy: 0.8174\n",
      "Epoch 24/30\n",
      "159/159 [==============================] - 0s 2ms/step - loss: 0.4759 - accuracy: 0.7854 - val_loss: 0.4482 - val_accuracy: 0.8156\n",
      "Epoch 25/30\n",
      "159/159 [==============================] - 0s 1ms/step - loss: 0.4757 - accuracy: 0.7852 - val_loss: 0.4490 - val_accuracy: 0.8156\n",
      "Epoch 26/30\n",
      "159/159 [==============================] - 0s 1ms/step - loss: 0.4751 - accuracy: 0.7866 - val_loss: 0.4476 - val_accuracy: 0.8138\n",
      "Epoch 27/30\n",
      "159/159 [==============================] - 0s 1ms/step - loss: 0.4752 - accuracy: 0.7862 - val_loss: 0.4501 - val_accuracy: 0.8191\n",
      "Epoch 28/30\n",
      "159/159 [==============================] - 0s 1ms/step - loss: 0.4750 - accuracy: 0.7876 - val_loss: 0.4480 - val_accuracy: 0.8174\n",
      "Epoch 29/30\n",
      "159/159 [==============================] - 0s 1ms/step - loss: 0.4741 - accuracy: 0.7872 - val_loss: 0.4489 - val_accuracy: 0.8156\n",
      "Epoch 30/30\n",
      "159/159 [==============================] - 0s 1ms/step - loss: 0.4740 - accuracy: 0.7870 - val_loss: 0.4486 - val_accuracy: 0.8156\n"
     ]
    }
   ],
   "source": [
    "history_func = model_func.fit(X_train, y_train, epochs=30,\n",
    "                    validation_data=(X_val, y_val))"
   ]
  },
  {
   "cell_type": "code",
   "execution_count": 190,
   "id": "e68f24b2",
   "metadata": {},
   "outputs": [
    {
     "data": {
      "image/png": "[encoded data removed]",
      "text/plain": [
       "<Figure size 576x360 with 1 Axes>"
      ]
     },
     "metadata": {
      "needs_background": "light"
     },
     "output_type": "display_data"
    }
   ],
   "source": [
    "pd.DataFrame(history_func.history).plot(figsize=(8, 5))\n",
    "plt.grid(True)\n",
    "plt.gca().set_ylim(0, 1)\n",
    "plt.show()"
   ]
  },
  {
   "cell_type": "markdown",
   "id": "d19a261b",
   "metadata": {},
   "source": [
    "**MODEL EVALUATION: Accuracy**"
   ]
  },
  {
   "cell_type": "code",
   "execution_count": 191,
   "id": "d57204b4",
   "metadata": {},
   "outputs": [
    {
     "name": "stdout",
     "output_type": "stream",
     "text": [
      "45/45 [==============================] - 0s 910us/step - loss: 0.4702 - accuracy: 0.8048\n"
     ]
    }
   ],
   "source": [
    "modelfunc_score = model_func.evaluate(X_test, y_test)"
   ]
  },
  {
   "cell_type": "markdown",
   "id": "1e0cb4c5",
   "metadata": {},
   "source": [
    "**MODEL IMPROVEMENT**"
   ]
  },
  {
   "cell_type": "markdown",
   "id": "e0742655",
   "metadata": {},
   "source": [
    "***with 5 hidden layers, each layer set with 50 neurons, using relu activation. Trained to 50 epochs WITH early stopping, and using adam as optimizer.***"
   ]
  },
  {
   "cell_type": "code",
   "execution_count": 192,
   "id": "0dd2181c",
   "metadata": {},
   "outputs": [],
   "source": [
    "np.random.seed(42)\n",
    "tf.random.set_seed(42)"
   ]
  },
  {
   "cell_type": "markdown",
   "id": "f6cee27f",
   "metadata": {},
   "source": [
    "**MODEL DEFINITION**"
   ]
  },
  {
   "cell_type": "code",
   "execution_count": 193,
   "id": "172f5937",
   "metadata": {},
   "outputs": [],
   "source": [
    "input_ = keras.layers.Input(shape=X_train.shape[1:])\n",
    "hidden1 = keras.layers.Dense(100, activation=\"relu\")(input_)\n",
    "hidden2 = keras.layers.Dense(100, activation=\"relu\")(hidden1)\n",
    "hidden3 = keras.layers.Dense(50, activation=\"relu\")(hidden2)\n",
    "hidden4 = keras.layers.Dense(50, activation=\"relu\")(hidden3)\n",
    "hidden5 = keras.layers.Dense(50, activation=\"relu\")(hidden4)\n",
    "concat = keras.layers.concatenate([input_, hidden5])\n",
    "output = keras.layers.Dense(1, activation=\"sigmoid\")(concat)\n",
    "model_func2 = keras.models.Model(inputs=[input_], outputs=[output])"
   ]
  },
  {
   "cell_type": "code",
   "execution_count": 194,
   "id": "2249514a",
   "metadata": {},
   "outputs": [
    {
     "name": "stdout",
     "output_type": "stream",
     "text": [
      "Model: \"model_7\"\n",
      "__________________________________________________________________________________________________\n",
      " Layer (type)                   Output Shape         Param #     Connected to                     \n",
      "==================================================================================================\n",
      " input_8 (InputLayer)           [(None, 9)]          0           []                               \n",
      "                                                                                                  \n",
      " dense_57 (Dense)               (None, 100)          1000        ['input_8[0][0]']                \n",
      "                                                                                                  \n",
      " dense_58 (Dense)               (None, 100)          10100       ['dense_57[0][0]']               \n",
      "                                                                                                  \n",
      " dense_59 (Dense)               (None, 50)           5050        ['dense_58[0][0]']               \n",
      "                                                                                                  \n",
      " dense_60 (Dense)               (None, 50)           2550        ['dense_59[0][0]']               \n",
      "                                                                                                  \n",
      " dense_61 (Dense)               (None, 50)           2550        ['dense_60[0][0]']               \n",
      "                                                                                                  \n",
      " concatenate_7 (Concatenate)    (None, 59)           0           ['input_8[0][0]',                \n",
      "                                                                  'dense_61[0][0]']               \n",
      "                                                                                                  \n",
      " dense_62 (Dense)               (None, 1)            60          ['concatenate_7[0][0]']          \n",
      "                                                                                                  \n",
      "==================================================================================================\n",
      "Total params: 21,310\n",
      "Trainable params: 21,310\n",
      "Non-trainable params: 0\n",
      "__________________________________________________________________________________________________\n"
     ]
    }
   ],
   "source": [
    "model_func2.summary()"
   ]
  },
  {
   "cell_type": "markdown",
   "id": "ae891390",
   "metadata": {},
   "source": [
    "**MODEL COMPILE**"
   ]
  },
  {
   "cell_type": "code",
   "execution_count": 195,
   "id": "653377da",
   "metadata": {},
   "outputs": [],
   "source": [
    "model_func2.compile(loss='binary_crossentropy', optimizer='adam', metrics=['accuracy'])"
   ]
  },
  {
   "cell_type": "markdown",
   "id": "ecd93f88",
   "metadata": {},
   "source": [
    "**MODEL TRAINING**"
   ]
  },
  {
   "cell_type": "code",
   "execution_count": 196,
   "id": "48fdc8a5",
   "metadata": {},
   "outputs": [],
   "source": [
    "# setting early stopping for best score \n",
    "es = EarlyStopping(monitor='val_loss', mode='min', verbose=1, patience=20)"
   ]
  },
  {
   "cell_type": "code",
   "execution_count": 197,
   "id": "3bb741b7",
   "metadata": {},
   "outputs": [
    {
     "name": "stdout",
     "output_type": "stream",
     "text": [
      "Epoch 1/50\n",
      "159/159 [==============================] - 1s 2ms/step - loss: 0.4724 - accuracy: 0.7560 - val_loss: 0.4130 - val_accuracy: 0.8138\n",
      "Epoch 2/50\n",
      "159/159 [==============================] - 0s 1ms/step - loss: 0.4346 - accuracy: 0.7890 - val_loss: 0.4140 - val_accuracy: 0.8121\n",
      "Epoch 3/50\n",
      "159/159 [==============================] - 0s 1ms/step - loss: 0.4320 - accuracy: 0.7927 - val_loss: 0.4052 - val_accuracy: 0.8138\n",
      "Epoch 4/50\n",
      "159/159 [==============================] - 0s 2ms/step - loss: 0.4280 - accuracy: 0.7964 - val_loss: 0.4053 - val_accuracy: 0.8174\n",
      "Epoch 5/50\n",
      "159/159 [==============================] - 0s 2ms/step - loss: 0.4249 - accuracy: 0.7951 - val_loss: 0.4112 - val_accuracy: 0.8085\n",
      "Epoch 6/50\n",
      "159/159 [==============================] - 0s 1ms/step - loss: 0.4247 - accuracy: 0.7917 - val_loss: 0.4078 - val_accuracy: 0.8209\n",
      "Epoch 7/50\n",
      "159/159 [==============================] - 0s 2ms/step - loss: 0.4228 - accuracy: 0.7943 - val_loss: 0.4059 - val_accuracy: 0.8156\n",
      "Epoch 8/50\n",
      "159/159 [==============================] - 0s 2ms/step - loss: 0.4202 - accuracy: 0.7998 - val_loss: 0.4095 - val_accuracy: 0.8032\n",
      "Epoch 9/50\n",
      "159/159 [==============================] - 0s 2ms/step - loss: 0.4210 - accuracy: 0.7947 - val_loss: 0.4038 - val_accuracy: 0.8138\n",
      "Epoch 10/50\n",
      "159/159 [==============================] - 0s 2ms/step - loss: 0.4189 - accuracy: 0.7961 - val_loss: 0.4141 - val_accuracy: 0.7996\n",
      "Epoch 11/50\n",
      "159/159 [==============================] - 0s 2ms/step - loss: 0.4187 - accuracy: 0.8006 - val_loss: 0.4078 - val_accuracy: 0.8050\n",
      "Epoch 12/50\n",
      "159/159 [==============================] - 0s 2ms/step - loss: 0.4166 - accuracy: 0.7986 - val_loss: 0.4100 - val_accuracy: 0.8085\n",
      "Epoch 13/50\n",
      "159/159 [==============================] - 0s 2ms/step - loss: 0.4132 - accuracy: 0.7976 - val_loss: 0.4099 - val_accuracy: 0.8121\n",
      "Epoch 14/50\n",
      "159/159 [==============================] - 0s 2ms/step - loss: 0.4136 - accuracy: 0.7992 - val_loss: 0.4137 - val_accuracy: 0.8050\n",
      "Epoch 15/50\n",
      "159/159 [==============================] - 0s 2ms/step - loss: 0.4123 - accuracy: 0.8012 - val_loss: 0.4100 - val_accuracy: 0.8121\n",
      "Epoch 16/50\n",
      "159/159 [==============================] - 0s 2ms/step - loss: 0.4103 - accuracy: 0.8004 - val_loss: 0.4151 - val_accuracy: 0.8103\n",
      "Epoch 17/50\n",
      "159/159 [==============================] - 0s 2ms/step - loss: 0.4085 - accuracy: 0.8043 - val_loss: 0.4123 - val_accuracy: 0.8156\n",
      "Epoch 18/50\n",
      "159/159 [==============================] - 0s 2ms/step - loss: 0.4077 - accuracy: 0.8004 - val_loss: 0.4166 - val_accuracy: 0.8067\n",
      "Epoch 19/50\n",
      "159/159 [==============================] - 0s 2ms/step - loss: 0.4060 - accuracy: 0.8022 - val_loss: 0.4238 - val_accuracy: 0.8014\n",
      "Epoch 20/50\n",
      "159/159 [==============================] - 0s 2ms/step - loss: 0.4054 - accuracy: 0.8047 - val_loss: 0.4234 - val_accuracy: 0.7961\n",
      "Epoch 21/50\n",
      "159/159 [==============================] - 0s 2ms/step - loss: 0.4072 - accuracy: 0.8079 - val_loss: 0.4164 - val_accuracy: 0.7996\n",
      "Epoch 22/50\n",
      "159/159 [==============================] - 0s 2ms/step - loss: 0.4039 - accuracy: 0.8073 - val_loss: 0.4184 - val_accuracy: 0.8032\n",
      "Epoch 23/50\n",
      "159/159 [==============================] - 0s 2ms/step - loss: 0.4013 - accuracy: 0.8037 - val_loss: 0.4278 - val_accuracy: 0.7979\n",
      "Epoch 24/50\n",
      "159/159 [==============================] - 0s 2ms/step - loss: 0.4011 - accuracy: 0.8063 - val_loss: 0.4263 - val_accuracy: 0.7943\n",
      "Epoch 25/50\n",
      "159/159 [==============================] - 0s 2ms/step - loss: 0.3990 - accuracy: 0.8099 - val_loss: 0.4360 - val_accuracy: 0.8085\n",
      "Epoch 26/50\n",
      "159/159 [==============================] - 0s 2ms/step - loss: 0.3980 - accuracy: 0.8075 - val_loss: 0.4343 - val_accuracy: 0.8103\n",
      "Epoch 27/50\n",
      "159/159 [==============================] - 0s 2ms/step - loss: 0.3963 - accuracy: 0.8095 - val_loss: 0.4358 - val_accuracy: 0.7908\n",
      "Epoch 28/50\n",
      "159/159 [==============================] - 0s 2ms/step - loss: 0.3977 - accuracy: 0.8108 - val_loss: 0.4337 - val_accuracy: 0.7890\n",
      "Epoch 29/50\n",
      "159/159 [==============================] - 0s 2ms/step - loss: 0.3939 - accuracy: 0.8097 - val_loss: 0.4395 - val_accuracy: 0.7890\n",
      "Epoch 00029: early stopping\n"
     ]
    }
   ],
   "source": [
    "history_func2 = model_func2.fit(X_train, y_train, epochs=50,\n",
    "                    validation_data=(X_val, y_val), callbacks=[es])"
   ]
  },
  {
   "cell_type": "code",
   "execution_count": 198,
   "id": "7b8f4804",
   "metadata": {},
   "outputs": [
    {
     "data": {
      "image/png": "[encoded data removed]",
      "text/plain": [
       "<Figure size 576x360 with 1 Axes>"
      ]
     },
     "metadata": {
      "needs_background": "light"
     },
     "output_type": "display_data"
    }
   ],
   "source": [
    "pd.DataFrame(history_func2.history).plot(figsize=(8, 5))\n",
    "plt.grid(True)\n",
    "plt.gca().set_ylim(0, 1)\n",
    "plt.show()"
   ]
  },
  {
   "cell_type": "markdown",
   "id": "f4d272c2",
   "metadata": {},
   "source": [
    "**MODEL EVALUATION: Accuracy**"
   ]
  },
  {
   "cell_type": "code",
   "execution_count": 199,
   "id": "26845f6c",
   "metadata": {},
   "outputs": [
    {
     "name": "stdout",
     "output_type": "stream",
     "text": [
      "45/45 [==============================] - 0s 862us/step - loss: 0.4463 - accuracy: 0.7906\n"
     ]
    }
   ],
   "source": [
    "modelfunc2_score = model_func2.evaluate(X_test,y_test)"
   ]
  },
  {
   "cell_type": "markdown",
   "id": "91dcc292",
   "metadata": {},
   "source": [
    "# VIII. MODEL ANALYSIS"
   ]
  },
  {
   "cell_type": "code",
   "execution_count": 200,
   "id": "23818253",
   "metadata": {},
   "outputs": [
    {
     "name": "stdout",
     "output_type": "stream",
     "text": [
      "1) Basic ANN Sequential API #1: [0.41778314113616943, 0.7955996990203857]\n",
      "2) Improved ANN Sequential API #2: [0.4075727164745331, 0.8076649904251099]\n",
      "3) Basic ANN Functional API #1: [0.4701708257198334, 0.8048261404037476]\n",
      "4) Improved ANN Functional API #2: [0.44627323746681213, 0.7906316518783569]\n"
     ]
    }
   ],
   "source": [
    "print('1) Basic ANN Sequential API #1:', model1_score)\n",
    "print('2) Improved ANN Sequential API #2:', model2_score)\n",
    "print('3) Basic ANN Functional API #1:', modelfunc_score)\n",
    "print('4) Improved ANN Functional API #2:', modelfunc2_score)"
   ]
  },
  {
   "cell_type": "code",
   "execution_count": 201,
   "id": "4164aa48",
   "metadata": {},
   "outputs": [
    {
     "data": {
      "image/png": "[encoded data removed]",
      "text/plain": [
       "<Figure size 1080x576 with 4 Axes>"
      ]
     },
     "metadata": {
      "needs_background": "light"
     },
     "output_type": "display_data"
    }
   ],
   "source": [
    "fig, [[ax1, ax2], [ax3, ax4]] = plt.subplots(2,2, sharex=True, figsize=(15,8))\n",
    "fig.tight_layout(pad=2)\n",
    "\n",
    "ax1.plot(pd.DataFrame(history1.history))\n",
    "plt.grid(True)\n",
    "plt.gca().set_ylim(0, 1)\n",
    "ax1.set_title('Basic ANN Sequential API (Model #1)')\n",
    "\n",
    "ax2.plot(pd.DataFrame(history2.history))\n",
    "plt.grid(True)\n",
    "plt.gca().set_ylim(0, 1)\n",
    "ax2.set_title('Improved ANN Sequential API (Model #2)')\n",
    "\n",
    "ax3.plot(pd.DataFrame(history_func.history))\n",
    "plt.grid(True)\n",
    "plt.gca().set_ylim(0, 1)\n",
    "ax3.set_title('Basic ANN Functional API (Model #3)')\n",
    "\n",
    "ax4.plot(pd.DataFrame(history_func2.history))\n",
    "plt.grid(True)\n",
    "plt.gca().set_ylim(0, 1)\n",
    "ax4.set_title('Improved ANN Functional API (Model #4)')\n",
    "plt.show()"
   ]
  },
  {
   "cell_type": "markdown",
   "id": "f8efb77c",
   "metadata": {},
   "source": [
    "**1) Basic ANN Sequential API #1:**\n",
    "\n",
    "***ANN Sequential API with 3 hidden layers using relu activation, each layer set with 100-50-50 neurons, and trained to 50 epoch WITH early stopping, and using adam as optimizer.***\n",
    "\n",
    "**-Data test score:** 0.41778314113616943, 0.7955996990203857\n",
    "\n",
    "-At Epoch 23/50 training stopped, with the lowest loss jumped to 0.40 from 0.46, and highest accuracy jumped to 0.80 from 0.76\n",
    "\n",
    "**2) Improved ANN Sequential API #2:**\n",
    "\n",
    "***with 2 hidden layers using relu activation, each layer set with 50 neurons, and trained to 30 epoch WITHOUT early stopping, and using SGD as optimizer.***\n",
    "\n",
    "**-Data test score:** 0.4075727164745331, 0.8076649904251099\n",
    "\n",
    "-At final Epoch (30/30), model jumped to lowest loss at 0.42 from 0.55, and reached highest accuracy at 0.79 from 0.73\n",
    "\n",
    "**3) Basic ANN Functional API #3:**\n",
    "\n",
    "***with 3 hidden layers, each layer set with 50 neurons, using relu activation. Trained to 30 epochs WITHOUT early stopping, and using SGD as optimizer.***\n",
    "\n",
    "**-Data test score:** 0.4701708257198334, 0.8048261404037476\n",
    "\n",
    "-At final Epoch (30/30), model jumped to lowest loss at 0.47 from 0.89, and reached highest accuracy at 0.78 from 0.69\n",
    "\n",
    "**4) Improved ANN Functional API #4:**\n",
    "\n",
    "***with 5 hidden layers, each layer set with 50 neurons, using relu activation. Trained to 50 epochs WITH early stopping, and using adam as optimizer.***\n",
    "\n",
    "**-Data test score:** 0.44627323746681213, 0.7906316518783569\n",
    "\n",
    "-At Epoch 29/50 training stopped, model jumped to lowest loss at 0.39 from 0.47, and reached highest accuracy at 0.80 from 0.75"
   ]
  },
  {
   "cell_type": "markdown",
   "id": "8a1c35d9",
   "metadata": {},
   "source": [
    "# IX. MODEL SAVING"
   ]
  },
  {
   "cell_type": "markdown",
   "id": "6e94a8f4",
   "metadata": {},
   "source": [
    "**For predicting, I will use model Improved ANN Sequential API #2, as it has the lowest data test loss and higher data test accuracy score compared to other 3 models.** "
   ]
  },
  {
   "cell_type": "code",
   "execution_count": 202,
   "id": "dc018e77",
   "metadata": {},
   "outputs": [],
   "source": [
    "model2.save(\"keras_model.h5\")"
   ]
  },
  {
   "cell_type": "markdown",
   "id": "1e9ae5e5",
   "metadata": {},
   "source": [
    "# X. MODEL INFERENCE USING BEST MODEL"
   ]
  },
  {
   "cell_type": "code",
   "execution_count": 203,
   "id": "3556ddfa",
   "metadata": {},
   "outputs": [
    {
     "data": {
      "text/plain": [
       "array([[0.46],\n",
       "       [0.05],\n",
       "       [0.01],\n",
       "       [0.71],\n",
       "       [0.03]], dtype=float32)"
      ]
     },
     "execution_count": 203,
     "metadata": {},
     "output_type": "execute_result"
    }
   ],
   "source": [
    "#load model \n",
    "model = keras.models.load_model(\"keras_model.h5\")\n",
    "\n",
    "#predict\n",
    "X_new = X_test[:5]\n",
    "y_proba = model.predict(X_new)\n",
    "y_proba.round(2)"
   ]
  },
  {
   "cell_type": "markdown",
   "id": "3b05eca2",
   "metadata": {},
   "source": [
    "***Only the 4th new data is predicted to leave/churn (value > 0.5), while others are predicted to stay (value < 0.5).***"
   ]
  },
  {
   "cell_type": "markdown",
   "id": "dd8f6a38",
   "metadata": {},
   "source": [
    "# XI. OVERALL ANALYSIS"
   ]
  },
  {
   "cell_type": "markdown",
   "id": "eee7d725",
   "metadata": {},
   "source": [
    "-Both classes are dominated with non-senior citizen, although there are more senior customers to churn than there are who do not churn\n",
    "\n",
    "-Majority of loyal customers are people with partners, while people with no partners are most likely to churn\n",
    "\n",
    "-Both classes are dominated with customers who do not have dependents, although there are more loyal customers with dependents than churned customers with dependents\n",
    "\n",
    "-Customers signed up for DSL internet service seems to be less likely to churn\n",
    "\n",
    "-Features streaming TV & Movie seems to be features that are similar to each other by seeing the graph & distribution of it. There are more churned customers who did not sign up for both products, although it is not very significant\n",
    "\n",
    "-Customers with longer term contract (one/two year contract) are less likely to churn, and customers whose payment method were electronic check, are more likely to churn than other payment menthod.\n",
    "\n",
    "-The distribution of Total Charges seems to be same for both classes, while customers with a lower monthly charge seems to stay than ones with higher monthly charge. Tenure of both classes totally has a different distribution, customers with longer tenure tends to stay while those with shorter tenure are more likely to leave/churn.\n",
    "\n",
    "-From overall EDA, Demographical features: senior citizen, partner, and dependents, Signed-up products features: internet service, online security, streaming movies, and Account information: tenure, contract and monthly charge are considered to be useful features for our classification model deep learning.\n",
    "\n",
    "**Advice for Telco company:**\n",
    "\n",
    "-Target younger customers with partner & dependents: such as making \"family subscription\" that is cheaper than personal\n",
    "\n",
    "-Serve more variant TV channels/movies to get customers signed up for more than 1 products \n",
    "\n",
    "-Target more customers to signed up for one or two year contracts and minimize monthly subscribers\n",
    "\n",
    "-Customer churn predictor can be accessed at https://nisa-ph2-ms1.herokuapp.com/"
   ]
  }
 ],
 "metadata": {
  "kernelspec": {
   "display_name": "Python 3",
   "language": "python",
   "name": "python3"
  },
  "language_info": {
   "codemirror_mode": {
    "name": "ipython",
    "version": 3
   },
   "file_extension": ".py",
   "mimetype": "text/x-python",
   "name": "python",
   "nbconvert_exporter": "python",
   "pygments_lexer": "ipython3",
   "version": "3.8.8"
  }
 },
 "nbformat": 4,
 "nbformat_minor": 5
}
